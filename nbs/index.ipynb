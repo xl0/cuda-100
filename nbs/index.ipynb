{
 "cells": [
  {
   "cell_type": "markdown",
   "metadata": {},
   "source": [
    "# 100 days of CUDA"
   ]
  },
  {
   "cell_type": "markdown",
   "metadata": {},
   "source": [
    "##### Installation instructions (how I do)\n",
    "\n",
    "\n",
    "- Create a mamba environment\n",
    "- `mamba install python=3.12` (pycuda do not work in 3.13 yet)\n",
    "- `mamba cuda`\n",
    "- `pip install pycuda`"
   ]
  },
  {
   "cell_type": "markdown",
   "metadata": {},
   "source": [
    "##### Progress\n",
    "\n",
    "- Day 0 [playing with PyCUDA](https://xl0.github.io/cuda-100/day_00_pycuda.html)\n",
    "- Day 1 [playing with NVCC, vector addition](https://github.com/xl0/cuda-100/tree/master/nbs/day_01_nvcc)\n",
    "- Day 2 [RGB 2 gray](https://xl0.github.io/cuda-100/day_02_grayscale.html) \n",
    "- Day 3 [RGB blur](https://xl0.github.io/cuda-100/day_03_blurry.html)\n",
    "- Day 4 [Naive matmul+exercises](https://xl0.github.io/cuda-100/day_04_matmul.html)\n",
    "- Day 5 [Matrix-vecor multiplication](https://xl0.github.io/cuda-100/day_05_matrix-vector.html)\n",
    "- Day 6 [Tiled matmul](https://xl0.github.io/cuda-100/day_06_matmul-tiled.html)\n",
    "- Day 7 [Tiled matmul - experiments](https://xl0.github.io/cuda-100/day_07_matmul-tiled-experiments.html)\n",
    "- Day 8 [Tiled matmul - thread coarsening](https://xl0.github.io/cuda-100/day_08_thread-coarsening.html)\n",
    "- Day 9 [Naive conv2d with arbitrary number of channels](https://xl0.github.io/cuda-100/day_09_conv2d.html)\n",
    "- Day 10 [faster conv2d ](https://xl0.github.io/cuda-100/day_10_conv2d-experiments.html)\n",
    "- Day 11 [conv2d with shared memory](https://xl0.github.io/cuda-100/day_11_conv2d_halo.html)"
   ]
  },
  {
   "cell_type": "markdown",
   "metadata": {},
   "source": [
    "Some CUDA (or C) quirks to note:\n",
    "```\n",
    "uint32_t a =  1;\n",
    "int32_t  j = -1;\n",
    "j >= a: True\n",
    "j +  a: 0\n",
    "```\n",
    "Somehow this is how type casting works in C. :/\n"
   ]
  }
 ],
 "metadata": {
  "kernelspec": {
   "display_name": "python3",
   "language": "python",
   "name": "python3"
  }
 },
 "nbformat": 4,
 "nbformat_minor": 4
}
