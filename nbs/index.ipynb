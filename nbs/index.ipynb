{
 "cells": [
  {
   "cell_type": "markdown",
   "metadata": {},
   "source": [
    "# 100 days of CUDA"
   ]
  },
  {
   "cell_type": "markdown",
   "metadata": {},
   "source": [
    "##### Installation instructions (how I do)\n",
    "\n",
    "\n",
    "- Create a mamba environment\n",
    "- `mamba install python=3.12` (pycuda do not work in 3.13 yet)\n",
    "- `mamba cuda`\n",
    "- `pip install pycuda`"
   ]
  },
  {
   "cell_type": "markdown",
   "metadata": {},
   "source": [
    "##### Progress\n",
    "\n",
    "- [Day 0](https://xl0.github.io/cuda-100/day_00_pycuda/pycuda.html) - playing with PyCUDA"
   ]
  }
 ],
 "metadata": {
  "kernelspec": {
   "display_name": "python3",
   "language": "python",
   "name": "python3"
  }
 },
 "nbformat": 4,
 "nbformat_minor": 4
}
