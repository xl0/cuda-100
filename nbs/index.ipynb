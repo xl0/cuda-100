{
 "cells": [
  {
   "cell_type": "markdown",
   "metadata": {},
   "source": [
    "# 100 days of CUDA"
   ]
  },
  {
   "cell_type": "markdown",
   "metadata": {},
   "source": [
    "##### Installation instructions (how I do)\n",
    "\n",
    "\n",
    "- Create a mamba environment\n",
    "- `mamba install python=3.12` (pycuda do not work in 3.13 yet)\n",
    "- `mamba cuda`\n",
    "- `pip install pycuda`"
   ]
  },
  {
   "cell_type": "markdown",
   "metadata": {},
   "source": [
    "##### Progress\n",
    "\n",
    "- [Day 0](https://xl0.github.io/cuda-100/day_00_pycuda.html) - playing with PyCUDA\n",
    "- [Day 1](https://github.com/xl0/cuda-100/tree/master/nbs/day_01_nvcc) - playing with NVCC, vector addition.\n",
    "- [Day 2](https://xl0.github.io/cuda-100/day_02_grayscale.html) - RGB 2 gray"
   ]
  },
  {
   "cell_type": "markdown",
   "metadata": {},
   "source": [
    "Some CUDA (or C) quirks to note:\n",
    "```\n",
    "uint32_t a =  1;\n",
    "int32_t  j = -1;\n",
    "j >= a: True\n",
    "j +  a: 0\n",
    "```\n",
    "Somehow this is how type casting works in C. :/\n"
   ]
  }
 ],
 "metadata": {
  "kernelspec": {
   "display_name": "python3",
   "language": "python",
   "name": "python3"
  }
 },
 "nbformat": 4,
 "nbformat_minor": 4
}
