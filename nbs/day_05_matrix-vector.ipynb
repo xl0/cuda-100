{
 "cells": [
  {
   "cell_type": "markdown",
   "metadata": {},
   "source": [
    "### Day 5 - Matrix-vector multiplication\n",
    "\n",
    "Chapter 3 exercise 2.\n",
    "```\n",
    "A matrix-vector multiplication takes an input matrix B and a vector C\n",
    "and produces one output vector A. Each element of the output vector A\n",
    "is the dot  product of one row of the input matrix B and C, that is,\n",
    "A[i] = sum{j} (B[i][j] * C[j]). For simplicity we will handle only square\n",
    "matrices whose elements are singleprecision floating-point numbers. Write\n",
    "a matrix-vector multiplication kernel and the host stub function that can\n",
    "be called with four parameters: pointer to the output matrix, pointer to\n",
    "the input matrix, pointer to the input vector, and the number of elements\n",
    "in each dimension. Use one thread to calculate an output vector element.\n",
    "```\n",
    "\n",
    "> I will actually implement it for any shape matrices.\n",
    "\n"
   ]
  },
  {
   "cell_type": "code",
   "execution_count": 23,
   "metadata": {},
   "outputs": [],
   "source": [
    "import numpy as np\n",
    "from PIL import Image\n",
    "from pathlib import Path"
   ]
  },
  {
   "cell_type": "code",
   "execution_count": 24,
   "metadata": {},
   "outputs": [
    {
     "name": "stdout",
     "output_type": "stream",
     "text": [
      "Cuda version: 12.8.0\n",
      "Device:\tNVIDIA GeForce RTX 3080 Laptop GPU\n"
     ]
    }
   ],
   "source": [
    "import pycuda.driver as cuda\n",
    "from pycuda.compiler import SourceModule\n",
    "cuda.init()\n",
    "\n",
    "device = cuda.Device(0)\n",
    "\n",
    "print(f\"Cuda version: {\".\".join([str(i) for i in cuda.get_version()])}\")\n",
    "print(f\"Device:\\t{device.name()}\")"
   ]
  },
  {
   "cell_type": "code",
   "execution_count": 25,
   "metadata": {},
   "outputs": [],
   "source": [
    "cu_file = \"kernels/misc/matrix-vector-mul.cu\""
   ]
  },
  {
   "cell_type": "code",
   "execution_count": 32,
   "metadata": {},
   "outputs": [
    {
     "name": "stdout",
     "output_type": "stream",
     "text": [
      "\n",
      "\n",
      "### [kernels/misc/matrix-vector-mul.cu](https://github.com/xl0/cuda-100/blob/master/nbs/kernels/misc/matrix-vector-mul.cu)\n",
      "\n",
      "\n",
      "::: {.sourceCode}\n",
      "```cpp\n",
      "#include <stdint.h>\n",
      "#include <stdio.h>\n",
      "\n",
      "__global__ void mat_vec_mul(float* m, float* v, float* res,\n",
      "                            uint32_t m_height,\n",
      "                            uint32_t m_width) {\n",
      "\n",
      "    int y = blockIdx.y * blockDim.y + threadIdx.y;\n",
      "\n",
      "    float out;\n",
      "    if (y < m_height) {\n",
      "        out = 0;\n",
      "        for (int i = 0; i < m_width; i++) {\n",
      "            out += m[y * m_width + i] * v[i];\n",
      "        }\n",
      "        res[y] = out;\n",
      "    }\n",
      "}\n",
      "\n",
      "```\n",
      ":::\n",
      "\n"
     ]
    }
   ],
   "source": [
    "#|output: asis\n",
    "#|echo: false\n",
    "\n",
    "c_code = Path(cu_file).read_text()\n",
    "print(f'''\n",
    "\n",
    "### [{cu_file}](https://github.com/xl0/cuda-100/blob/master/nbs/{cu_file})\n",
    "\n",
    "\n",
    "::: {{.sourceCode}}\n",
    "```cpp\n",
    "{c_code}\n",
    "```\n",
    ":::\n",
    "''')"
   ]
  },
  {
   "cell_type": "code",
   "execution_count": 27,
   "metadata": {},
   "outputs": [],
   "source": [
    "from lovely_numpy import Lo"
   ]
  },
  {
   "cell_type": "code",
   "execution_count": 28,
   "metadata": {},
   "outputs": [
    {
     "data": {
      "text/plain": [
       "array[2000] f32 7.8Kb x∈[-101.809, 89.337] μ=-0.495 σ=31.320"
      ]
     },
     "execution_count": 28,
     "metadata": {},
     "output_type": "execute_result"
    }
   ],
   "source": [
    "m = np.random.randn(2000, 1000).astype(np.float32)\n",
    "v = np.random.randn(1000).astype(np.float32)\n",
    "\n",
    "np_res = m @ v\n",
    "Lo(np_res)"
   ]
  },
  {
   "cell_type": "markdown",
   "metadata": {},
   "source": [
    "### Testing the kernel"
   ]
  },
  {
   "cell_type": "code",
   "execution_count": 29,
   "metadata": {},
   "outputs": [
    {
     "name": "stdout",
     "output_type": "stream",
     "text": [
      "Matrix shape: (2000, 1000)\n",
      "Vector shape: (1000,)\n",
      "Grid size: (1, 16, 1)\n",
      "Block size: (1, 128, 1)\n",
      "Result dimension: 2000\n",
      "Total threads: 2048\n"
     ]
    },
    {
     "data": {
      "text/plain": [
       "array[2000] f32 7.8Kb x∈[-101.809, 89.337] μ=-0.495 σ=31.320"
      ]
     },
     "execution_count": 29,
     "metadata": {},
     "output_type": "execute_result"
    }
   ],
   "source": [
    "BLOCK_SIZE_X = 1\n",
    "BLOCK_SIZE_Y = 128\n",
    "\n",
    "assert(len(m.shape) == 2)\n",
    "assert(len(v.shape) == 1)\n",
    "assert(m.shape[1] == v.shape[0])\n",
    "\n",
    "out_dim = m.shape[0]\n",
    "\n",
    "try:\n",
    "    ctx = device.make_context()\n",
    "\n",
    "    mod = SourceModule(Path(cu_file).read_text(),\n",
    "        options=[\n",
    "            '-Xcompiler', '-Wall',\n",
    "            '-Xcompiler', '-Wextra',\n",
    "            '-Xcompiler', '-Wsign-conversion',\n",
    "            '-Xcompiler', '-Wcast-qual',\n",
    "            '-Xcompiler', '-Wunused-parameter',\n",
    "            '-Xcompiler', '-Wdouble-promotion',\n",
    "            '-Xcompiler', '-Wformat=2',\n",
    "            '-Xcompiler', '-Wfloat-equal',\n",
    "            '-Xcompiler', '-Wshadow'\n",
    "        ]\n",
    "        )\n",
    "\n",
    "    mat_vec_mul = mod.get_function(\"mat_vec_mul\")\n",
    "\n",
    "    gpu_m = cuda.mem_alloc_like(m)\n",
    "    gpu_v = cuda.mem_alloc_like(v)\n",
    "\n",
    "    res = np.empty((out_dim, ), dtype=np.float32)\n",
    "\n",
    "    gpu_res = cuda.mem_alloc_like(res)\n",
    "\n",
    "\n",
    "    cuda.memcpy_htod(gpu_m, m)\n",
    "    cuda.memcpy_htod(gpu_v, v)\n",
    "\n",
    "    block_size = (BLOCK_SIZE_X, BLOCK_SIZE_Y, 1)\n",
    "    grid_size = (\n",
    "        1,\n",
    "        ((out_dim + BLOCK_SIZE_Y - 1) // BLOCK_SIZE_Y),\n",
    "        1\n",
    "    )\n",
    "\n",
    "\n",
    "    print(f\"Matrix shape: {m.shape}\")\n",
    "    print(f\"Vector shape: {v.shape}\")\n",
    "    print(f\"Grid size: {grid_size}\")\n",
    "    print(f\"Block size: {block_size}\")\n",
    "    print(f\"Result dimension: {out_dim}\")\n",
    "    print(f\"Total threads: {grid_size[0] * grid_size[1] * block_size[0] * block_size[1]}\")\n",
    "\n",
    "    ctx.synchronize()\n",
    "\n",
    "    mat_vec_mul(gpu_m, gpu_v, gpu_res, np.uint32(m.shape[0]), np.uint32(m.shape[1]), grid=grid_size, block=block_size)\n",
    "\n",
    "    ctx.synchronize()\n",
    "\n",
    "    cuda.memcpy_dtoh(res, gpu_res)\n",
    "    ctx.synchronize()\n",
    "\n",
    "\n",
    "finally:\n",
    "    ctx.pop()\n",
    "    ctx.detach()\n",
    "\n",
    "Lo(res)"
   ]
  },
  {
   "cell_type": "code",
   "execution_count": 30,
   "metadata": {},
   "outputs": [
    {
     "data": {
      "text/plain": [
       "array([ True,  True,  True, ...,  True,  True,  True], shape=(2000,))"
      ]
     },
     "execution_count": 30,
     "metadata": {},
     "output_type": "execute_result"
    }
   ],
   "source": [
    "np.isclose(res, np_res)"
   ]
  },
  {
   "cell_type": "code",
   "execution_count": 31,
   "metadata": {},
   "outputs": [
    {
     "data": {
      "text/plain": [
       "np.float64(0.9825)"
      ]
     },
     "execution_count": 31,
     "metadata": {},
     "output_type": "execute_result"
    }
   ],
   "source": [
    "np.isclose(res, np_res).mean()"
   ]
  },
  {
   "cell_type": "markdown",
   "metadata": {},
   "source": [
    "### Numerical stability\n",
    "\n",
    "We have the same numerical error situation as with matmul, but seems to work fine otherwise."
   ]
  }
 ],
 "metadata": {
  "kernelspec": {
   "display_name": "cuda",
   "language": "python",
   "name": "python3"
  },
  "language_info": {
   "codemirror_mode": {
    "name": "ipython",
    "version": 3
   },
   "file_extension": ".py",
   "mimetype": "text/x-python",
   "name": "python",
   "nbconvert_exporter": "python",
   "pygments_lexer": "ipython3",
   "version": "3.12.8"
  }
 },
 "nbformat": 4,
 "nbformat_minor": 2
}
