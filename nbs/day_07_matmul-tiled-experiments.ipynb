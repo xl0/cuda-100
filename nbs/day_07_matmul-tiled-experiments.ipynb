{
 "cells": [
  {
   "cell_type": "markdown",
   "metadata": {},
   "source": [
    "### Day 7 - Tiled matmul experiments\n",
    "\n",
    "- Benchmark it against Numpy and naive matmul\n",
    "- Benchmark the impact of boundary checks on performance."
   ]
  },
  {
   "cell_type": "code",
   "execution_count": null,
   "metadata": {},
   "outputs": [],
   "source": [
    "import numpy as np\n",
    "from PIL import Image\n",
    "from pathlib import Path"
   ]
  },
  {
   "cell_type": "code",
   "execution_count": null,
   "metadata": {},
   "outputs": [
    {
     "name": "stdout",
     "output_type": "stream",
     "text": [
      "Cuda version: 12.8.0\n",
      "Device:\tNVIDIA GeForce RTX 3080 Laptop GPU\n"
     ]
    }
   ],
   "source": [
    "import pycuda.driver as cuda\n",
    "from pycuda.compiler import SourceModule\n",
    "cuda.init()\n",
    "\n",
    "device = cuda.Device(0)\n",
    "\n",
    "print(f\"Cuda version: {\".\".join([str(i) for i in cuda.get_version()])}\")\n",
    "print(f\"Device:\\t{device.name()}\")"
   ]
  },
  {
   "cell_type": "markdown",
   "metadata": {},
   "source": [
    "[day_06_matmul-tiled.cu](https://github.com/xl0/cuda-100/blob/master/nbs/day_06_matmul-tiled.cu)"
   ]
  },
  {
   "cell_type": "code",
   "execution_count": null,
   "metadata": {},
   "outputs": [
    {
     "name": "stdout",
     "output_type": "stream",
     "text": [
      "\n",
      "\n",
      "[day_07_matmul-tiled-experiments.cu](https://github.com/xl0/cuda-100/blob/master/nbs/day_07_matmul-tiled-experiments.cu)\n",
      "\n",
      "::: {.code-block}\n",
      "```\n",
      "#include <stdint.h>\n",
      "#include <stdio.h>\n",
      "\n",
      "\n",
      "#ifndef TILE_WIDTH\n",
      "#define TILE_WIDTH 16\n",
      "#endif\n",
      "\n",
      "__global__ void matmul_fp32_tiled_bc(float* m1, float* m2, float* res,\n",
      "                                     uint32_t out_shape_0,\n",
      "                                     uint32_t out_shape_1,\n",
      "                                     uint32_t inner_dim,\n",
      "                                     uint32_t) {\n",
      "\n",
      "    int x = blockIdx.x * blockDim.x + threadIdx.x;\n",
      "    int y = blockIdx.y * blockDim.y + threadIdx.y;\n",
      "\n",
      "    __shared__ float m1_tile[TILE_WIDTH][TILE_WIDTH];\n",
      "    __shared__ float m2_tile[TILE_WIDTH][TILE_WIDTH];\n",
      "\n",
      "\n",
      "    int m1_x = inner_dim;\n",
      "    int m2_x = out_shape_1;\n",
      "\n",
      "    if (x < out_shape_1 && y < out_shape_0) {\n",
      "\n",
      "        float R = 0;\n",
      "        for (int tile = 0; tile < inner_dim / TILE_WIDTH; tile++) {\n",
      "\n",
      "            m1_tile[threadIdx.y][threadIdx.x] = m1[y * m1_x + tile * TILE_WIDTH + threadIdx.x];\n",
      "            m2_tile[threadIdx.y][threadIdx.x] = m2[(tile * TILE_WIDTH + threadIdx.y) * m2_x + x];\n",
      "\n",
      "            __syncthreads();\n",
      "\n",
      "            for (int i = 0; i < TILE_WIDTH; i++) {\n",
      "                R += m1_tile[threadIdx.y][i] * m2_tile[i][threadIdx.x];\n",
      "            }\n",
      "\n",
      "            __syncthreads();\n",
      "        }\n",
      "\n",
      "        res[y * out_shape_1 + x] = R;\n",
      "    }\n",
      "\n",
      "}\n",
      "\n",
      "__global__ void matmul_fp32_tiled(float* m1, float* m2, float* res,\n",
      "                                     uint32_t out_shape_0,\n",
      "                                     uint32_t out_shape_1,\n",
      "                                     uint32_t inner_dim,\n",
      "                                     uint32_t) {\n",
      "\n",
      "    int x = blockIdx.x * blockDim.x + threadIdx.x;\n",
      "    int y = blockIdx.y * blockDim.y + threadIdx.y;\n",
      "\n",
      "    __shared__ float m1_tile[TILE_WIDTH][TILE_WIDTH];\n",
      "    __shared__ float m2_tile[TILE_WIDTH][TILE_WIDTH];\n",
      "\n",
      "\n",
      "    int m1_x = inner_dim;\n",
      "    int m2_x = out_shape_1;\n",
      "\n",
      "    float R = 0;\n",
      "    for (int tile = 0; tile < inner_dim / TILE_WIDTH; tile++) {\n",
      "\n",
      "        m1_tile[threadIdx.y][threadIdx.x] = m1[y * m1_x + tile * TILE_WIDTH + threadIdx.x];\n",
      "        m2_tile[threadIdx.y][threadIdx.x] = m2[(tile * TILE_WIDTH + threadIdx.y) * m2_x + x];\n",
      "\n",
      "        __syncthreads();\n",
      "\n",
      "        for (int i = 0; i < TILE_WIDTH; i++) {\n",
      "            R += m1_tile[threadIdx.y][i] * m2_tile[i][threadIdx.x];\n",
      "        }\n",
      "\n",
      "        __syncthreads();\n",
      "    }\n",
      "\n",
      "    res[y * out_shape_1 + x] = R;\n",
      "\n",
      "}\n",
      "\n",
      "\n",
      "\n",
      "\n",
      "// Non-tiled version\n",
      "__global__ void matmul_fp32(float* m1, float* m2, float* res,\n",
      "                            uint32_t out_shape_0,\n",
      "                            uint32_t out_shape_1,\n",
      "                            uint32_t inner_dim,\n",
      "                            uint32_t) {\n",
      "\n",
      "    int x = blockIdx.x * blockDim.x + threadIdx.x;\n",
      "    int y = blockIdx.y * blockDim.y + threadIdx.y;\n",
      "\n",
      "    int m1_width = inner_dim;\n",
      "    int m2_width = out_shape_1;\n",
      "\n",
      "    float out;\n",
      "    if (x < out_shape_1 && y < out_shape_0) {\n",
      "        out = 0;\n",
      "        for (int i = 0; i < inner_dim; i++) {\n",
      "            out += m1[y * m1_width + i] * m2[i * m2_width + x];\n",
      "        }\n",
      "        res[y * out_shape_1 + x] = out;\n",
      "    }\n",
      "}\n",
      "\n",
      "\n",
      "\n",
      "```\n",
      ":::\n",
      "\n"
     ]
    }
   ],
   "source": [
    "#|output: asis\n",
    "#|echo: false\n",
    "\n",
    "filename=\"day_07_matmul-tiled-experiments.cu\"\n",
    "\n",
    "c_code = Path(filename).read_text()\n",
    "print(f'''\n",
    "\n",
    "[day_07_matmul-tiled-experiments.cu](https://github.com/xl0/cuda-100/blob/master/nbs/{filename})\n",
    "\n",
    "::: {{.code-block}}\n",
    "```\n",
    "{c_code}\n",
    "```\n",
    ":::\n",
    "''')"
   ]
  },
  {
   "cell_type": "code",
   "execution_count": null,
   "metadata": {},
   "outputs": [],
   "source": [
    "from lovely_numpy import Lo"
   ]
  },
  {
   "cell_type": "code",
   "execution_count": null,
   "metadata": {},
   "outputs": [
    {
     "data": {
      "text/plain": [
       "array[513, 8000] f32 n=4104000 (16Mb) x∈[-171.804, 161.225] μ=0.015 σ=32.003"
      ]
     },
     "execution_count": null,
     "metadata": {},
     "output_type": "execute_result"
    }
   ],
   "source": [
    "m1 = np.random.randn(513, 1024).astype(np.float32)\n",
    "m2 = np.random.randn(1024, 8000).astype(np.float32)\n",
    "\n",
    "np_res = np.matmul(m1, m2)\n",
    "Lo(np_res)"
   ]
  },
  {
   "cell_type": "code",
   "execution_count": null,
   "metadata": {},
   "outputs": [],
   "source": [
    "## Compiler options for more compile-time warnings.\n",
    "warn_options=[\n",
    "    '-Xcompiler', '-Wall',\n",
    "    '-Xcompiler', '-Wextra',\n",
    "    '-Xcompiler', '-Wsign-conversion',\n",
    "    '-Xcompiler', '-Wcast-qual',\n",
    "    '-Xcompiler', '-Wunused-parameter',\n",
    "    '-Xcompiler', '-Wdouble-promotion',\n",
    "    '-Xcompiler', '-Wformat=2',\n",
    "    '-Xcompiler', '-Wfloat-equal',\n",
    "    '-Xcompiler', '-Wshadow'\n",
    "]"
   ]
  },
  {
   "cell_type": "code",
   "execution_count": null,
   "metadata": {},
   "outputs": [
    {
     "name": "stdout",
     "output_type": "stream",
     "text": [
      "Matrix 1 shape: (513, 1024)\n",
      "Matrix 2 shape: (1024, 8000)\n",
      "Result shape: (513, 8000)\n",
      "Grid size: (500, 33, 1)\n",
      "Block size: (16, 16, 1)\n",
      "Total threads: 4224000\n",
      "array[513, 8000] f32 n=4104000 (16Mb) x∈[-171.804, 161.226] μ=0.010 σ=32.011\n",
      "Took 6.350ms\n"
     ]
    }
   ],
   "source": [
    "def benchmark_matmul(file, kernel_name, m1, m2, tile_width=16, repeat=100):\n",
    "\n",
    "    assert len(m1.shape) == 2\n",
    "    assert len(m2.shape) == 2\n",
    "    assert m1.shape[1] == m2.shape[0]\n",
    "\n",
    "    out_shape = (m1.shape[0], m2.shape[1])\n",
    "\n",
    "    try:\n",
    "        ctx = device.make_context()\n",
    "\n",
    "        mod = SourceModule(\n",
    "            Path(file).read_text(),\n",
    "            options=warn_options + [\n",
    "                f\"-D TILE_WIDTH={tile_width}\",\n",
    "                ])\n",
    "\n",
    "        kernel = mod.get_function(kernel_name)\n",
    "\n",
    "        gpu_m1 = cuda.mem_alloc_like(m1)\n",
    "        gpu_m2 = cuda.mem_alloc_like(m2)\n",
    "\n",
    "        res = np.empty(out_shape, dtype=np.float32)\n",
    "\n",
    "        cuda.memcpy_htod(gpu_m1, m1)\n",
    "        cuda.memcpy_htod(gpu_m2, m2)\n",
    "\n",
    "        block_size = (tile_width, tile_width, 1)\n",
    "        grid_size = (\n",
    "            ((out_shape[1] + tile_width - 1) // tile_width),\n",
    "            ((out_shape[0] + tile_width - 1) // tile_width),\n",
    "            1\n",
    "        )\n",
    "\n",
    "\n",
    "        print(f\"Matrix 1 shape: {m1.shape}\")\n",
    "        print(f\"Matrix 2 shape: {m2.shape}\")\n",
    "        print(f\"Result shape: {out_shape}\")\n",
    "        print(f\"Grid size: {grid_size}\")\n",
    "        print(f\"Block size: {block_size}\")\n",
    "        print(f\"Total threads: {grid_size[0] * grid_size[1] * block_size[0] * block_size[1]}\")\n",
    "\n",
    "\n",
    "        ctx.synchronize()\n",
    "\n",
    "        timing=0\n",
    "        for _ in range(repeat):\n",
    "            start = cuda.Event()\n",
    "            end = cuda.Event()\n",
    "\n",
    "            gpu_res = cuda.mem_alloc_like(res)\n",
    "\n",
    "            kernel(gpu_m1, gpu_m2, gpu_res, np.uint32(out_shape[0]), np.uint32(out_shape[1]), np.uint32(m1.shape[1]), grid=grid_size, block=block_size)\n",
    "\n",
    "            start.record()\n",
    "            kernel(gpu_m1, gpu_m2, gpu_res, np.uint32(out_shape[0]), np.uint32(out_shape[1]), np.uint32(m1.shape[1]), grid=grid_size, block=block_size)\n",
    "            end.record()\n",
    "\n",
    "            cuda.memcpy_dtoh(res, gpu_res)\n",
    "\n",
    "            timing += end.time_since(start)\n",
    "        timing /= repeat\n",
    "\n",
    "\n",
    "    finally:\n",
    "        ctx.pop()\n",
    "        ctx.detach()\n",
    "    return res, timing;\n",
    "\n",
    "\n",
    "res, timing = benchmark_matmul(\"day_07_matmul-tiled-experiments.cu\", \"matmul_fp32_tiled_bc\", m1, m2, 16, repeat=10)\n",
    "print(Lo(res))\n",
    "print(f\"Took {timing:.3f}ms\")"
   ]
  },
  {
   "cell_type": "code",
   "execution_count": null,
   "metadata": {},
   "outputs": [
    {
     "data": {
      "text/plain": [
       "np.float64(0.9773111598440546)"
      ]
     },
     "execution_count": null,
     "metadata": {},
     "output_type": "execute_result"
    }
   ],
   "source": [
    "np.isclose(res, np_res).mean()"
   ]
  },
  {
   "cell_type": "markdown",
   "metadata": {},
   "source": [
    "### This works. Let's run the experiments."
   ]
  },
  {
   "cell_type": "code",
   "execution_count": null,
   "metadata": {},
   "outputs": [],
   "source": [
    "import pandas as pd\n",
    "from tqdm.auto import tqdm"
   ]
  },
  {
   "cell_type": "code",
   "execution_count": null,
   "metadata": {},
   "outputs": [],
   "source": [
    "import random"
   ]
  },
  {
   "cell_type": "code",
   "execution_count": null,
   "metadata": {},
   "outputs": [
    {
     "data": {
      "application/vnd.jupyter.widget-view+json": {
       "model_id": "569466ce39b84fb68e644ce58fa073eb",
       "version_major": 2,
       "version_minor": 0
      },
      "text/plain": [
       "  0%|          | 0/4 [00:00<?, ?it/s]"
      ]
     },
     "metadata": {},
     "output_type": "display_data"
    },
    {
     "data": {
      "application/vnd.jupyter.widget-view+json": {
       "model_id": "0fb5da5341f748e092090e225740b30d",
       "version_major": 2,
       "version_minor": 0
      },
      "text/plain": [
       "  0%|          | 0/254 [00:00<?, ?it/s]"
      ]
     },
     "metadata": {},
     "output_type": "display_data"
    },
    {
     "data": {
      "application/vnd.jupyter.widget-view+json": {
       "model_id": "16e3a7722c524fad878ab6628f6bbb29",
       "version_major": 2,
       "version_minor": 0
      },
      "text/plain": [
       "  0%|          | 0/91 [00:00<?, ?it/s]"
      ]
     },
     "metadata": {},
     "output_type": "display_data"
    },
    {
     "data": {
      "application/vnd.jupyter.widget-view+json": {
       "model_id": "537b660d7a4540c983ff158188d341e7",
       "version_major": 2,
       "version_minor": 0
      },
      "text/plain": [
       "  0%|          | 0/254 [00:00<?, ?it/s]"
      ]
     },
     "metadata": {},
     "output_type": "display_data"
    },
    {
     "data": {
      "application/vnd.jupyter.widget-view+json": {
       "model_id": "d52920a521a2484cb9150f961f9e3bb2",
       "version_major": 2,
       "version_minor": 0
      },
      "text/plain": [
       "  0%|          | 0/139 [00:00<?, ?it/s]"
      ]
     },
     "metadata": {},
     "output_type": "display_data"
    },
    {
     "data": {
      "application/vnd.jupyter.widget-view+json": {
       "model_id": "44e35b3030cd4ae890a5489b94c72012",
       "version_major": 2,
       "version_minor": 0
      },
      "text/plain": [
       "  0%|          | 0/254 [00:00<?, ?it/s]"
      ]
     },
     "metadata": {},
     "output_type": "display_data"
    },
    {
     "data": {
      "application/vnd.jupyter.widget-view+json": {
       "model_id": "829f1a644ac8406aa233f5ec887b0e70",
       "version_major": 2,
       "version_minor": 0
      },
      "text/plain": [
       "  0%|          | 0/165 [00:00<?, ?it/s]"
      ]
     },
     "metadata": {},
     "output_type": "display_data"
    },
    {
     "data": {
      "application/vnd.jupyter.widget-view+json": {
       "model_id": "234dbb50f6154f69b867be7299af9c5e",
       "version_major": 2,
       "version_minor": 0
      },
      "text/plain": [
       "  0%|          | 0/254 [00:00<?, ?it/s]"
      ]
     },
     "metadata": {},
     "output_type": "display_data"
    },
    {
     "data": {
      "application/vnd.jupyter.widget-view+json": {
       "model_id": "1739dcb1054543ad878f011f7331234d",
       "version_major": 2,
       "version_minor": 0
      },
      "text/plain": [
       "  0%|          | 0/175 [00:00<?, ?it/s]"
      ]
     },
     "metadata": {},
     "output_type": "display_data"
    }
   ],
   "source": [
    "# data = pd.DataFrame(columns=[\"matrix_size\", \"tile\", \"timing_bc\", \"timing_nc\"])\n",
    "\n",
    "data = []\n",
    "\n",
    "repeat = 3\n",
    "\n",
    "def time_kernel(ctx, kernel, tile_size, matrix_size, repeat=5):\n",
    "    out_shape = (matrix_size, matrix_size)\n",
    "\n",
    "    m1 = np.random.randn(matrix_size, matrix_size).astype(np.float32)\n",
    "    m2 = np.random.randn(matrix_size, matrix_size).astype(np.float32)\n",
    "\n",
    "    res = np.empty_like(m1)\n",
    "\n",
    "\n",
    "    gpu_m1 = cuda.mem_alloc_like(m1)\n",
    "    gpu_m2 = cuda.mem_alloc_like(m2)\n",
    "\n",
    "    gpu_res = cuda.mem_alloc_like(res)\n",
    "\n",
    "    block_size = (tile_size, tile_size, 1)\n",
    "    grid_size = (\n",
    "        ((out_shape[1] + tile_size - 1) // tile_size),\n",
    "        ((out_shape[0] + tile_size - 1) // tile_size),\n",
    "        1\n",
    "    )\n",
    "\n",
    "    # warmup run, just in case\n",
    "    kernel(gpu_m1, gpu_m2, gpu_res, np.uint32(out_shape[0]), np.uint32(out_shape[1]), np.uint32(m1.shape[1]), grid=grid_size, block=block_size)\n",
    "\n",
    "\n",
    "    timing = 0\n",
    "    for _ in range(repeat):\n",
    "        start = cuda.Event()\n",
    "        end = cuda.Event()\n",
    "\n",
    "\n",
    "        start.record()\n",
    "        kernel(gpu_m1, gpu_m2, gpu_res, np.uint32(out_shape[0]), np.uint32(out_shape[1]), np.uint32(m1.shape[1]), grid=grid_size, block=block_size)\n",
    "        end.record()\n",
    "        end.synchronize()\n",
    "\n",
    "        timing += end.time_since(start)\n",
    "    timing /= repeat\n",
    "\n",
    "    return timing\n",
    "\n",
    "\n",
    "\n",
    "# for tile_size in tqdm([32, 24, 16, 12, 8, 4]):\n",
    "for tile_size in tqdm([4, 8, 16, 32]):\n",
    "    ctx = device.make_context()\n",
    "\n",
    "    mod = SourceModule(\n",
    "        Path(\"day_07_matmul-tiled-experiments.cu\").read_text(),\n",
    "        options=warn_options + [\n",
    "            f\"-D TILE_WIDTH={tile_size}\"\n",
    "            ])\n",
    "\n",
    "    kernel_bc = mod.get_function(\"matmul_fp32_tiled_bc\")\n",
    "    kernel_nc = mod.get_function(\"matmul_fp32_tiled\")\n",
    "\n",
    "\n",
    "    n = 0\n",
    "\n",
    "    for matrix_size in tqdm(range(64,8192, 32)):\n",
    "        timing = time_kernel(ctx, kernel_nc, tile_size, matrix_size, repeat)\n",
    "\n",
    "        data.append({\n",
    "            \"matrix_size\": matrix_size,\n",
    "            \"tile_size\": tile_size,\n",
    "            \"timing_nc\": timing\n",
    "        })\n",
    "\n",
    "        n += 1\n",
    "        if timing > 300: break # We increase the size of the matrix until it gets too slow\n",
    "\n",
    "    # Sample a few matrix sizes that are not multiple of tile size\n",
    "    for _ in tqdm(range(n)):\n",
    "\n",
    "        # Generate a random matrix size that is not multiple of tile size\n",
    "        matrix_size = 32\n",
    "        while not matrix_size % tile_size:\n",
    "            matrix_size = random.randint(1, n*32)\n",
    "\n",
    "        timing = time_kernel(ctx, kernel_bc, tile_size, matrix_size, repeat)\n",
    "\n",
    "        data.append({\n",
    "            \"matrix_size\": matrix_size,\n",
    "            \"tile_size\": tile_size,\n",
    "            \"timing_bc\": timing\n",
    "        })\n",
    "\n"
   ]
  },
  {
   "cell_type": "markdown",
   "metadata": {},
   "source": [
    "### Let's also time the naive matmul implementation"
   ]
  },
  {
   "cell_type": "code",
   "execution_count": null,
   "metadata": {},
   "outputs": [],
   "source": [
    "\n",
    "def time_naive_matmul(ctx, kernel, size, repeat=5):\n",
    "\n",
    "    BLOCK_SIZE=32\n",
    "\n",
    "    out_shape = (size, size)\n",
    "\n",
    "    m1 = np.random.randn(matrix_size, matrix_size).astype(np.float32)\n",
    "    m2 = np.random.randn(matrix_size, matrix_size).astype(np.float32)\n",
    "\n",
    "    gpu_m1 = cuda.mem_alloc_like(m1)\n",
    "    gpu_m2 = cuda.mem_alloc_like(m2)\n",
    "\n",
    "    res = np.empty(out_shape, dtype=np.float32)\n",
    "\n",
    "    gpu_res = cuda.mem_alloc_like(res)\n",
    "\n",
    "\n",
    "    cuda.memcpy_htod(gpu_m1, m1)\n",
    "    cuda.memcpy_htod(gpu_m2, m2)\n",
    "\n",
    "    block_size = (BLOCK_SIZE, BLOCK_SIZE, 1)\n",
    "    grid_size = (\n",
    "        ((out_shape[1] + BLOCK_SIZE - 1) // BLOCK_SIZE),\n",
    "        ((out_shape[0] + BLOCK_SIZE - 1) // BLOCK_SIZE),\n",
    "        1\n",
    "    )\n",
    "    # warmup run, just in case\n",
    "    kernel(gpu_m1, gpu_m2, gpu_res, np.uint32(out_shape[0]), np.uint32(out_shape[1]), np.uint32(m1.shape[1]), grid=grid_size, block=block_size)\n",
    "\n",
    "\n",
    "    timing = 0\n",
    "    for _ in range(repeat):\n",
    "        start = cuda.Event()\n",
    "        end = cuda.Event()\n",
    "\n",
    "\n",
    "        start.record()\n",
    "        kernel(gpu_m1, gpu_m2, gpu_res, np.uint32(out_shape[0]), np.uint32(out_shape[1]), np.uint32(m1.shape[1]), grid=grid_size, block=block_size)\n",
    "        end.record()\n",
    "        end.synchronize()\n",
    "\n",
    "        timing += end.time_since(start)\n",
    "    timing /= repeat\n",
    "    return timing"
   ]
  },
  {
   "cell_type": "code",
   "execution_count": null,
   "metadata": {},
   "outputs": [
    {
     "data": {
      "application/vnd.jupyter.widget-view+json": {
       "model_id": "04b76c3350aa41f2bfdb4cbc25a578db",
       "version_major": 2,
       "version_minor": 0
      },
      "text/plain": [
       "  0%|          | 0/254 [00:00<?, ?it/s]"
      ]
     },
     "metadata": {},
     "output_type": "display_data"
    }
   ],
   "source": [
    "naive_d = []\n",
    "\n",
    "try:\n",
    "    ctx = device.make_context()\n",
    "\n",
    "    mod = SourceModule(\n",
    "        Path(\"day_07_matmul-tiled-experiments.cu\").read_text(),\n",
    "        options=warn_options)\n",
    "\n",
    "    kernel = mod.get_function(\"matmul_fp32\")\n",
    "\n",
    "    for matrix_size in tqdm(range(64, 8192, 32)):\n",
    "\n",
    "        timing = time_naive_matmul(ctx, kernel, matrix_size)\n",
    "\n",
    "        naive_d.append({\n",
    "            \"matrix_size\": matrix_size,\n",
    "            \"timing_nc\": timing\n",
    "        })\n",
    "\n",
    "\n",
    "finally:\n",
    "    ctx.pop()\n",
    "    ctx.detach()\n"
   ]
  },
  {
   "cell_type": "code",
   "execution_count": null,
   "metadata": {},
   "outputs": [
    {
     "data": {
      "application/vnd.jupyter.widget-view+json": {
       "model_id": "4a6cbbba04f343e5a46df4f2bb66fee0",
       "version_major": 2,
       "version_minor": 0
      },
      "text/plain": [
       "  0%|          | 0/254 [00:00<?, ?it/s]"
      ]
     },
     "metadata": {},
     "output_type": "display_data"
    }
   ],
   "source": [
    "import time\n",
    "\n",
    "# Benchmark against numpy\n",
    "numpy_data = []\n",
    "\n",
    "for matrix_size in tqdm(range(64, 8192, 32)):\n",
    "    # Create random matrices\n",
    "    m1 = np.random.randn(matrix_size, matrix_size).astype(np.float32)\n",
    "    m2 = np.random.randn(matrix_size, matrix_size).astype(np.float32)\n",
    "\n",
    "    # Time numpy matmul\n",
    "    timing = 0\n",
    "    repeat = 3\n",
    "    for _ in range(repeat):\n",
    "        start_time = time.perf_counter()\n",
    "        np.matmul(m1, m2)\n",
    "        end_time = time.perf_counter()\n",
    "        timing += (end_time - start_time) * 1000  # Convert to ms\n",
    "    timing /= repeat\n",
    "\n",
    "    numpy_data.append({\n",
    "        \"matrix_size\": matrix_size,\n",
    "        \"timing_numpy\": timing\n",
    "    })\n",
    "\n"
   ]
  },
  {
   "cell_type": "code",
   "execution_count": null,
   "metadata": {},
   "outputs": [],
   "source": [
    "data = [d for d in data if \"tile_size\" in d]"
   ]
  },
  {
   "cell_type": "code",
   "execution_count": null,
   "metadata": {},
   "outputs": [],
   "source": [
    "naive_d = [{\n",
    "    \"matrix_size\": matrix_size,\n",
    "    \"timing_nc\": timing\n",
    "} for matrix_size, timing in naive_d.items()]"
   ]
  },
  {
   "cell_type": "code",
   "execution_count": null,
   "metadata": {},
   "outputs": [],
   "source": [
    "# Create empty dataframe with matrix size as index\n",
    "df = pd.DataFrame(index=sorted(list(set(d['matrix_size'] for d in data))))\n",
    "\n",
    "# Add columns for each tile size and version\n",
    "for tile_size in [4, 8, 16, 32]:\n",
    "    # Get data for this tile size\n",
    "    tile_data = [d for d in data if d['tile_size'] == tile_size]\n",
    "\n",
    "    # Add bounds check timings\n",
    "    bc_data = {d['matrix_size']: d['timing_bc'] for d in tile_data if 'timing_bc' in d}\n",
    "    df[f'tile_{tile_size}_bc'] = pd.Series(bc_data)\n",
    "\n",
    "    # Add no bounds check timings\n",
    "    nc_data = {d['matrix_size']: d['timing_nc'] for d in tile_data if 'timing_nc' in d}\n",
    "    df[f'tile_{tile_size}_nc'] = pd.Series(nc_data)\n",
    "\n",
    "# Add naive matmul timings\n",
    "naive_timing_data = {d['matrix_size']: d['timing_nc'] for d in naive_d}\n",
    "df['naive'] = pd.Series(naive_timing_data)\n",
    "\n",
    "# Add numpy timings\n",
    "numpy_timing_data = {d['matrix_size']: d['timing_numpy'] for d in numpy_data}\n",
    "df['numpy'] = pd.Series(numpy_timing_data)"
   ]
  },
  {
   "cell_type": "code",
   "execution_count": null,
   "metadata": {},
   "outputs": [
    {
     "data": {
      "text/html": [
       "<div>\n",
       "<style scoped>\n",
       "    .dataframe tbody tr th:only-of-type {\n",
       "        vertical-align: middle;\n",
       "    }\n",
       "\n",
       "    .dataframe tbody tr th {\n",
       "        vertical-align: top;\n",
       "    }\n",
       "\n",
       "    .dataframe thead th {\n",
       "        text-align: right;\n",
       "    }\n",
       "</style>\n",
       "<table border=\"1\" class=\"dataframe\">\n",
       "  <thead>\n",
       "    <tr style=\"text-align: right;\">\n",
       "      <th></th>\n",
       "      <th>tile_4_bc</th>\n",
       "      <th>tile_4_nc</th>\n",
       "      <th>tile_8_bc</th>\n",
       "      <th>tile_8_nc</th>\n",
       "      <th>tile_16_bc</th>\n",
       "      <th>tile_16_nc</th>\n",
       "      <th>tile_32_bc</th>\n",
       "      <th>tile_32_nc</th>\n",
       "      <th>naive</th>\n",
       "      <th>numpy</th>\n",
       "    </tr>\n",
       "  </thead>\n",
       "  <tbody>\n",
       "    <tr>\n",
       "      <th>7</th>\n",
       "      <td>NaN</td>\n",
       "      <td>NaN</td>\n",
       "      <td>NaN</td>\n",
       "      <td>NaN</td>\n",
       "      <td>NaN</td>\n",
       "      <td>NaN</td>\n",
       "      <td>0.016043</td>\n",
       "      <td>NaN</td>\n",
       "      <td>NaN</td>\n",
       "      <td>NaN</td>\n",
       "    </tr>\n",
       "    <tr>\n",
       "      <th>46</th>\n",
       "      <td>NaN</td>\n",
       "      <td>NaN</td>\n",
       "      <td>0.020480</td>\n",
       "      <td>NaN</td>\n",
       "      <td>NaN</td>\n",
       "      <td>NaN</td>\n",
       "      <td>NaN</td>\n",
       "      <td>NaN</td>\n",
       "      <td>NaN</td>\n",
       "      <td>NaN</td>\n",
       "    </tr>\n",
       "    <tr>\n",
       "      <th>49</th>\n",
       "      <td>0.019115</td>\n",
       "      <td>NaN</td>\n",
       "      <td>0.014677</td>\n",
       "      <td>NaN</td>\n",
       "      <td>NaN</td>\n",
       "      <td>NaN</td>\n",
       "      <td>NaN</td>\n",
       "      <td>NaN</td>\n",
       "      <td>NaN</td>\n",
       "      <td>NaN</td>\n",
       "    </tr>\n",
       "    <tr>\n",
       "      <th>64</th>\n",
       "      <td>NaN</td>\n",
       "      <td>0.016384</td>\n",
       "      <td>NaN</td>\n",
       "      <td>0.016725</td>\n",
       "      <td>NaN</td>\n",
       "      <td>0.013995</td>\n",
       "      <td>NaN</td>\n",
       "      <td>0.022187</td>\n",
       "      <td>0.016186</td>\n",
       "      <td>2.617160</td>\n",
       "    </tr>\n",
       "    <tr>\n",
       "      <th>65</th>\n",
       "      <td>NaN</td>\n",
       "      <td>NaN</td>\n",
       "      <td>0.013312</td>\n",
       "      <td>NaN</td>\n",
       "      <td>NaN</td>\n",
       "      <td>NaN</td>\n",
       "      <td>NaN</td>\n",
       "      <td>NaN</td>\n",
       "      <td>NaN</td>\n",
       "      <td>NaN</td>\n",
       "    </tr>\n",
       "    <tr>\n",
       "      <th>...</th>\n",
       "      <td>...</td>\n",
       "      <td>...</td>\n",
       "      <td>...</td>\n",
       "      <td>...</td>\n",
       "      <td>...</td>\n",
       "      <td>...</td>\n",
       "      <td>...</td>\n",
       "      <td>...</td>\n",
       "      <td>...</td>\n",
       "      <td>...</td>\n",
       "    </tr>\n",
       "    <tr>\n",
       "      <th>5539</th>\n",
       "      <td>NaN</td>\n",
       "      <td>NaN</td>\n",
       "      <td>NaN</td>\n",
       "      <td>NaN</td>\n",
       "      <td>NaN</td>\n",
       "      <td>NaN</td>\n",
       "      <td>286.144826</td>\n",
       "      <td>NaN</td>\n",
       "      <td>NaN</td>\n",
       "      <td>NaN</td>\n",
       "    </tr>\n",
       "    <tr>\n",
       "      <th>5568</th>\n",
       "      <td>NaN</td>\n",
       "      <td>NaN</td>\n",
       "      <td>NaN</td>\n",
       "      <td>NaN</td>\n",
       "      <td>NaN</td>\n",
       "      <td>NaN</td>\n",
       "      <td>NaN</td>\n",
       "      <td>267.395081</td>\n",
       "      <td>468.687262</td>\n",
       "      <td>637.096948</td>\n",
       "    </tr>\n",
       "    <tr>\n",
       "      <th>5576</th>\n",
       "      <td>NaN</td>\n",
       "      <td>NaN</td>\n",
       "      <td>NaN</td>\n",
       "      <td>NaN</td>\n",
       "      <td>NaN</td>\n",
       "      <td>NaN</td>\n",
       "      <td>292.212056</td>\n",
       "      <td>NaN</td>\n",
       "      <td>NaN</td>\n",
       "      <td>NaN</td>\n",
       "    </tr>\n",
       "    <tr>\n",
       "      <th>5600</th>\n",
       "      <td>NaN</td>\n",
       "      <td>NaN</td>\n",
       "      <td>NaN</td>\n",
       "      <td>NaN</td>\n",
       "      <td>NaN</td>\n",
       "      <td>NaN</td>\n",
       "      <td>NaN</td>\n",
       "      <td>294.163523</td>\n",
       "      <td>476.006195</td>\n",
       "      <td>639.416769</td>\n",
       "    </tr>\n",
       "    <tr>\n",
       "      <th>5632</th>\n",
       "      <td>NaN</td>\n",
       "      <td>NaN</td>\n",
       "      <td>NaN</td>\n",
       "      <td>NaN</td>\n",
       "      <td>NaN</td>\n",
       "      <td>NaN</td>\n",
       "      <td>NaN</td>\n",
       "      <td>302.702952</td>\n",
       "      <td>479.155829</td>\n",
       "      <td>612.006322</td>\n",
       "    </tr>\n",
       "  </tbody>\n",
       "</table>\n",
       "<p>712 rows × 10 columns</p>\n",
       "</div>"
      ],
      "text/plain": [
       "      tile_4_bc  tile_4_nc  tile_8_bc  tile_8_nc  tile_16_bc  tile_16_nc  \\\n",
       "7           NaN        NaN        NaN        NaN         NaN         NaN   \n",
       "46          NaN        NaN   0.020480        NaN         NaN         NaN   \n",
       "49     0.019115        NaN   0.014677        NaN         NaN         NaN   \n",
       "64          NaN   0.016384        NaN   0.016725         NaN    0.013995   \n",
       "65          NaN        NaN   0.013312        NaN         NaN         NaN   \n",
       "...         ...        ...        ...        ...         ...         ...   \n",
       "5539        NaN        NaN        NaN        NaN         NaN         NaN   \n",
       "5568        NaN        NaN        NaN        NaN         NaN         NaN   \n",
       "5576        NaN        NaN        NaN        NaN         NaN         NaN   \n",
       "5600        NaN        NaN        NaN        NaN         NaN         NaN   \n",
       "5632        NaN        NaN        NaN        NaN         NaN         NaN   \n",
       "\n",
       "      tile_32_bc  tile_32_nc       naive       numpy  \n",
       "7       0.016043         NaN         NaN         NaN  \n",
       "46           NaN         NaN         NaN         NaN  \n",
       "49           NaN         NaN         NaN         NaN  \n",
       "64           NaN    0.022187    0.016186    2.617160  \n",
       "65           NaN         NaN         NaN         NaN  \n",
       "...          ...         ...         ...         ...  \n",
       "5539  286.144826         NaN         NaN         NaN  \n",
       "5568         NaN  267.395081  468.687262  637.096948  \n",
       "5576  292.212056         NaN         NaN         NaN  \n",
       "5600         NaN  294.163523  476.006195  639.416769  \n",
       "5632         NaN  302.702952  479.155829  612.006322  \n",
       "\n",
       "[712 rows x 10 columns]"
      ]
     },
     "execution_count": null,
     "metadata": {},
     "output_type": "execute_result"
    }
   ],
   "source": [
    "df"
   ]
  },
  {
   "cell_type": "code",
   "execution_count": null,
   "metadata": {},
   "outputs": [
    {
     "data": {
      "application/vnd.plotly.v1+json": {
       "config": {
        "plotlyServerURL": "https://plot.ly"
       },
       "data": [
        {
         "marker": {
          "color": "rgb(153, 0, 0)",
          "size": 4
         },
         "mode": "markers",
         "name": "Bounds Check, Tile=32",
         "type": "scatter",
         "x": {
          "bdata": "BwBqAKQA2QDuAP8ADwEVAR8BJQFkAZABmQGcAZ4B0AE2AlMCYgJ2An8CgQLiAugCGgMiAyoDXwNsA3kDlgPIA+8D8gNNBIQEpQTJBFAFcQWDBb4F4wXnBekFFgYrBjkGZwarBq4G4QblBi0HQweQB8MHyQfOB/UHUAhuCG8IdgicCKoItAjBCMsIOAk6CUcJTAlYCXEJfwm0CbsJxQkCCgUKEQotCi4KQQpGCnkKjAqkCqoK1QrsCgELHwtCC54LswvKC/4LEQyzDNoM6AzwDBANSg1PDVINgw2EDYYN6w0MDhUOQQ5WDmYOjQ6pDsQOaw+LD8IP0Q/hDxEQWxCOEJMQqBCsELAQuhDXEOcQ8xAcEV4RhxGqEe8RHhIlEisSThJVElYShhK1ErgSxxLUEugSZBN6E6wTuBPNE/sTIhRoFHoUhBSdFNEU7BQSFSsVXxVoFW8VoxXIFQ==",
          "dtype": "i2"
         },
         "y": {
          "bdata": "+EthGcTkpT+dgiHHZI9iQFmp2Vsde3pAkM9mFNYFhUAbHXH4jQWGQPbA2n0ZTYlA9XiOcSoyi0AO1dJ11tOMQDWw7T1424xA/8L7XGOVkUBdKxcGI9yQQIXHWJZC75BAsJqAGuxxkUByMBLPgTCSQGn7sFuoC5JAhHgN5Ox5kEA8uF6Gl2mYQNLndTBLXZRACEakTftKkkBo1X1Ld/+SQAw5gyanMpZAKmikM41dlECnyjIDsreRQAMv0yXnyJRAYytSPFZ9l0B8nh7s9mGWQJD4E+C415ZAL7ZiqGsol0CK1tn+xiCXQFWtVdmRtZVAoK1LpGL1lkAlAfNopE+WQAJ7T+ZO55NAqO9qb7Lcl0BurBz4hLeXQAsMgvXkDJZAPiUdfqPllUChs7eFbrKWQFuZkHZezZVAR1cJxG8nl0DTFKdjkfeVQAAd8pvuZ5dARmIsaXT0lkA/tRYgmHuWQF6It74qRJZAAZP96Rl6lkCnYdUZR5mWQORTK6QmG5ZArYywHIxflkBgB84inp2VQBsHm8BNCZZAZ6msy1WKlUC7GFFyKHWWQBrpZqc/45VAlTnxo/+8lEBeT7w/vLqVQN5lsiXIHpRAZ/2YYm7ElEBIud8mcHOTQKm+5gyfm5JAMlc0nfIqlED04OM+PA+TQKm50/KGrpNA4WPo7ZsBlUBl5f/VKUiUQDj65Yr1f5NADB/As726j0Du6JlrY+CTQFp+CCgKzJNATyXRuy1ckkBIoprz1eWRQGflMsnh4pBAIC9Cd43mkkALjvfTTSKTQC/wN7YrhpNA/sl9ntD0kkDF3W58Qr+SQOzP5l0h65JAcJfW0/j5kkAnPL6hSuqSQN+KTzszdJJA8e+lqfiVkkBTi/yi83aRQMqYyrWyMZJAoUX0bCDekkBBQmcfhV2SQAMhc1Xi/pFAUzuatXDLkUDRMZauKseSQMVg1j7jNZJAIKwbUtmSjUAyTERXkF2RQIxvVq+DPZJAWHwN8CWHkkAt/jH1pPaRQJE1tfI6J5JASv3CuAoJkkAgqROmMyCTQPm+Ma3BhJJAEu39LpC5kkBhwYHQ/QyTQKhBCEmbD5JAF2hBzUBCkUD09mJVLzqSQHD+6jatzpJAuJWDrGdOkkDFuYutIp2RQNY4gKBLHZNAjPAKZdtTkkDKUn97YlWSQPRwinMCgJJAOewhfzg3lEArYQ/9lhiSQJ46YxwLa5JA4ni8xckWkkBujOVv5J+SQGmcRZ4XVJFAH9yDLHvAk0DZ5qUWupOQQCrsXhsWPZFAp+VthdqWkEC0WTQSvv6SQP9EPfF+N5JAWgvljH5akkCire3dpgiTQPCH/Alm7pJA7bAd5YjqkkDUkxwy4SWUQIokTjibLJJAC6LJ8kShkUBVwWvY+o2TQHVaWK6vsJFAkjetwrzgkkAdB/xsjSiSQMtSnIteLJNA+eXVgY+Ik0CAOYS0L+iRQLHLOFtVIZNAyv7mZkixkUCpZJdi5KGSQHsPkauHh5FAQjrDAZCekkDoTLyJx7ySQA8uMjo6UpJAK2DkQLpBkkA5w19NvciTQO2NlRt/o5JABDbqxVksk0Cr2iwrOGGSQIBsyHFr5pJAvuTYYOC9kkBKn8pa1G2TQGYatjwsnZJAiN3t5MSvkkCgocQ5MdmSQIKXrCNdtZFA7zpVnJ6MkkDHDQEJpiqSQPkrXL/XSZJAQB4rDTuYkUAPng/6u1aSQHc7JPXkeZJAMDfwRJ+6kUA+KIkFrJiSQHV25oVUrZJA6kcLkk2KkkDuLr5Rl8qRQK3FZW/g4ZFAuHaokI4zk0BwZa8/aVOSQH17PnU/9ZJA1j/P1iSPkkAGl9exWoqSQA==",
          "dtype": "f8"
         }
        },
        {
         "marker": {
          "color": "rgb(255, 102, 102)",
          "size": 4
         },
         "mode": "markers",
         "name": "No Bounds Check, Tile=32",
         "type": "scatter",
         "x": {
          "bdata": "QABgAIAAoADAAOAAAAEgAUABYAGAAaABwAHgAQACIAJAAmACgAKgAsAC4AIAAyADQANgA4ADoAPAA+ADAAQgBEAEYASABKAEwATgBAAFIAVABWAFgAWgBcAF4AUABiAGQAZgBoAGoAbABuAGAAcgB0AHYAeAB6AHwAfgBwAIIAhACGAIgAigCMAI4AgACSAJQAlgCYAJoAnACeAJAAogCkAKYAqACqAKwArgCgALIAtAC2ALgAugC8AL4AsADCAMQAxgDIAMoAzADOAMAA0gDUANYA2ADaANwA3gDQAOIA5ADmAOgA6gDsAO4A4ADyAPQA9gD4APoA/AD+APABAgEEAQYBCAEKAQwBDgEAARIBFAEWARgBGgEcAR4BEAEiASQBJgEoASoBLAEuASABMgE0ATYBOAE6ATwBPgEwAUIBRAFGAUgBSgFMAU4BQAFSAVQBVgFYAVoBXAFeAVABY=",
          "dtype": "i2"
         },
         "y": {
          "bdata": "LvF0C3qhN0BCdFLCTuxYQPFaRB4eHm5Aa8Qqky66dkCda9SeUkeFQNjU5PiGtYJAkOn7jGH7iEAk8NhtcgWPQOrsVuKRCYxACsrDP9L9kEDCuL4VREGUQBNoXeEJNZJA0b18/Up6kUD+dQK1WCuUQNdR6iyIK5NAubM4OgHCkUBzyab3c9CTQC2WOwF5YJNAxD6GqPpCk0B8NgZppBuTQEzpsoc/bpNAHDpl/gxQk0Ctw9vTFW+TQE5DQQT4KZNAs6WvYh1ok0BYQ16c3l2TQAEsUDMtLZRAbn/nHxRak0BYzgydzyOTQJ47Tn2FpZJAiCEJj1hOkkBtrowoP2SRQCiQ7fVK25BA8Q3w7Mtck0D6RNThsmSQQGZnd8HyppJAfGJnI6xfkUCyzMUuX3KRQLmxIzJh5pBAxgYxZYhzkUB+XAsPvwCSQHz4tQgpr5JAtw+iU3DikUAvQ88bPyiSQATUKL8mDJJAaq5NBt7MkUDwAQq+/nWRQJGED0SJ15FANRCzGjEtkkA4iqdzoASQQJu/tHLTZ5FAhgOhTHFrj0D+NG7tM5CPQHXzo/wze5FA9jae61byj0Cff8ProDGQQL150IlKnJFAjw7ZH4w/j0DwDdFDTayPQODXasQgnpBAD1Fhuj4rj0A1XE3P5y6QQIU+XBiVz45AfPAGPmJyj0Cx19FLRh+OQBNDFTEf7Y5AI7Lq98gfj0CGCd1uxVCOQOHqag8SJ41A94fnEnUkjkAYie0qBnOOQMpEr2SNeI5A1eqrADrxjUBsNfdLjyqOQD/2xluPgo1ARHeR/duljUDbYrW+CciNQFOSdeEYZI1AdWysb5OfjUBdKUJbspGNQAwZAmSHz41A7P18F4VvjUBLyBy+2LONQN3oV24Gv41A2JKkNAltjUC/QsYPh4KNQFB1kkAPsI1AQ8SqFbiSjUAVNgYu1MyNQMbLnLCZ6Y1A5J6QNrIKjkBqgqKj7eqNQLFPPhTH8Y1AnddFYlGmjUDU4vE+KaeNQJjzKJhUio5AfHSZMxVZjkAl/ga/Q02OQE48pjM8541AzUZswMVFjkC5lXG9lvaNQNdKZqoP2pBAfDQHW1n4kED8REUKjPOQQMigAOcqwJBA3XhydgPzkECeXtEG+emQQJV3EdW3/JBApAKxAoDkkEDweYQ2N+eQQNzO12Ka6ZBAw9DnQ0XnkED6zWHWbvOQQKKU5aotG5FAMA70/SoxkUDNEEvK2C+RQG4B0AKqNJFABbjfX1EQkUD1/WL5QxmRQK9zlf4k8pBAmYt54UbrkECAZXRnviSSQLmGTzJ6DZJA72FGhEggkkBPsuOVSR6SQF/lz3FDDJJAT1yN6OkVkkA/WZp1kSGSQJ5FqhfXF5JA2F366fAkkkBNjnhYBVqSQAeMVyDr9JNAA5xks+8lk0CgbQbYsRSSQOEZI0gVFpJAEebj9mEJkkA1jo2qWAuSQOhH5LjSPJNA8+miwSlbkkC3GLKkOcmSQHl7dKoky5JA2RCN539YkkCAEpxeBcKRQHslye+y2JFADBcQsivykkCifDHWW/eSQFjsHshj4pJA/lz9cSO/kUB78pjDgb6RQKRLgsbdspFAAs4UWSfTkkCdEsN05MCRQNnYsKfJkJFAfp8CU1ybkkDvPtB9G+uSQCtsQ8hnZpJAZy7d2a+KkkA27vJKkKSSQItRs9VA9pBAB6XLGOn4kEB6JIHDhfeQQGsWpatyFpJAXUjo0n7mkkCRcBIF/omSQNRR5NS2+pJAMF27qhUWk0A1eTsS4TaSQNEt/15Ct5FAJt4NBuLNkkAzmvujV/ORQG2ViTp8CJNAHQvXp8uHkkBGwzwukiyUQPUMI58CqJJALnEC40txkkA=",
          "dtype": "f8"
         }
        },
        {
         "marker": {
          "color": "rgb(0, 102, 0)",
          "size": 4
         },
         "mode": "markers",
         "name": "Bounds Check, Tile=16",
         "type": "scatter",
         "x": {
          "bdata": "hwChALcA3ADzAA8BFgEpAYQBpgHaARkCZQKqAsUCxgLnAu4CXgPfA/YDDwQUBBsELARIBFwEZgRxBJoEpQTOBP4EAQUIBRwFMwVyBXsFkgWWBacFwQXFBeIF/gUPBiIGQgZYBnQGywbsBvwGAgcNBy8HNAc6B2gHeAeVB/YHJQg7CFcIXwh6CIwInAipCL8I5Qj4CAEJBQkUCRcJKAkuCXIJgwmiCekJAQomCjIKiQquCs4K2QrxCioLRwuiC/QLkgy6DP8MJg0+DT8NXw1/DakN7Q0SDicOMw5jDsgOEQ85D2QPew+kD6wPxw/oD/4PGxAmEEoQjRCPEJ8QwRDcEPIQ+BA1EW8RlRGmEdsRJBIlElISexLOEvISChMOE1cTdBOUE5oTrxPbE90THRQhFDwUPRRKFEwUZBR2FH4UhhSOFJcU",
          "dtype": "i2"
         },
         "y": {
          "bdata": "ZwMLrFljckBJD4ql8WN9QAKc0q88CntAfNgI4CDjgUBrSh/CQUCHQHOu7Nyy+YdA5H5OotA3iUCX5IIdVz+JQCa7XkqKoI1AiQ47usf6jUA6EREhCECPQCvzpqpP7o9ApQ3bhrJFkEA9EjmceKmQQPMgbKsuHJFAk4VeX4OZkECEZK2d8KqQQIhDyEGo35BAjMma7L/6jUBV7FEA9xCRQPEhBrRpLo1AGNuBH/3mkUCxjTx7bJGUQGtEsxerH5FAWsoHn5SvkEDYETNqxdCSQCMFsM7t9I9AeUCNQPWLlkDwDo7l5CyNQHySAIIq45ZAIN5ikAgelkDeDcHSI/iRQJCLpSTRQpJAQ8nlPiPzj0BCrfw/MFqQQE2cuYF3FpBAzAKUKUl2l0APkYfRkGeQQKRuPfwixpdAwvrQYjUikEDP7+ly/MiRQD81iL/WfZFAr7joxFjvkkAiuXTCiG2WQCpXXmPMhI9APtivTqxPkEBblNSxDOqXQHJZAWHJZY5A25Qi4kQOk0BSrkOmM6OQQEMaLcS/p5FALlHbmxJhkUCrtbP3g4mPQK5ZZ95CmpJA7NcA9RbOjkC2Hnui3CGUQKXKAEU22pJAnsB6DGJfkEAUlU+S7X6VQJD7Z8zjRJZAVYPfLpIwlEAU8YLP8neQQEU6rhDY049AREhsE5uFj0DIyaJkLJyRQK21vTZoY49AQlAM98WmkEBw8RGhGCGQQJNN8tSFu49ADgmDTt8kj0CdjHbD0A6QQAd7aCE2PI9Anow8MJkzj0BWP9WBG8aOQIO6aZqVk49AIq8t8YrQj0DBKfC9azKQQOz80KQZqY9AlvXRkNzdj0AARlaHqdaQQImm92v8FI9AH7OgTdDej0AgYkJkA6yOQCPJZh7Loo9ANQm3PPsuj0D4cVo2QBuPQOU5Y7qgkY9AWWa8ZfH1j0CGgsoBwCqPQEp17Mf4z49AmL7dbs5nj0D8ILkXJOGOQKgDNG0JJ49ALtPUo4U4j0A6PiSOQ4uOQL0KeOvBmpNAoRs4HuLFjkCfMbmvu+eOQOnppaZtoY9AAyDxvZqNj0Ad4e0JYVaPQNgtUnp4W49AlTY+FB/XjkBYYH7wvnmPQEwKcKdzyo5AB7muTonujkCXbmUauNOOQDJbNYttb49AMMKHviyWj0DzsebnnaKOQGtJJ6R/co9AcOWQiPYAkEBo9XbwzxmPQOIQfz3ww45A7lEa+PrqjkByTLDRuqmPQPKRt6QpII9AOF79I2aAj0BEhcrqN9aPQBEpmoxp845A8Tl2SBZDj0BsDXrKQ3mPQNIHZP+l9o5AIFN9qHPpjkDevXVbWHGPQNeVP+j52o5Afg5t65ZVj0Bk2vQTmt6OQOROLv1/CZBAKguR7RYBkECVQUPXrpaPQPg12+fqF49AVulpVDDIjkALGPzZybiPQD38AYP19Y5AjCO9l83MjkCJkvCIgNuOQEyTeR7Rz45ASxn1dXbojkCu1hz5eEyPQEMLECvLMo9Ay6XklCY8j0CX2hDCXNSPQJBaz1SHlo9AhaZzaGhqj0AfviNWwsuOQBnocpCI345AG6/H+LXHj0C6ZnKot3yPQPFNhXnAiI9ArY6X5D1tj0Aw4EUgvUyPQPVOPvJPcY9AxuJ3wy3ijkA5knUu9WePQGv2naO9KI9ARTu9TRTIjkCwRB5XvoSPQCpzxkAJ6o5APk9flbFLj0DX6bXXo46PQIIH6vtOWY9A",
          "dtype": "f8"
         }
        },
        {
         "marker": {
          "color": "rgb(102, 255, 102)",
          "size": 4
         },
         "mode": "markers",
         "name": "No Bounds Check, Tile=16",
         "type": "scatter",
         "x": {
          "bdata": "QABgAIAAoADAAOAAAAEgAUABYAGAAaABwAHgAQACIAJAAmACgAKgAsAC4AIAAyADQANgA4ADoAPAA+ADAAQgBEAEYASABKAEwATgBAAFIAVABWAFgAWgBcAF4AUABiAGQAZgBoAGoAbABuAGAAcgB0AHYAeAB6AHwAfgBwAIIAhACGAIgAigCMAI4AgACSAJQAlgCYAJoAnACeAJAAogCkAKYAqACqAKwArgCgALIAtAC2ALgAugC8AL4AsADCAMQAxgDIAMoAzADOAMAA0gDUANYA2ADaANwA3gDQAOIA5ADmAOgA6gDsAO4A4ADyAPQA9gD4APoA/AD+APABAgEEAQYBCAEKAQwBDgEAARIBFAEWARgBGgEcAR4BEAEiASQBJgEoASoBLAEuASABMgE0ATYBOAE6ATwBPgEwAUIBRAFGAUgBSgFMAU",
          "dtype": "i2"
         },
         "y": {
          "bdata": "R5rbMFG7QkBjx4SZuCNeQFbMoBuGYWhANXJ29xSXeECI3npz4VeDQGSoqpXYyYNAfSR9LWFshkC8LLXGDTGKQGuj9QmdU4pAzzbbD3xxi0CO2CCEuCOOQNmCPFDpKY1A5sB8xYbyjkD3WreaNWWPQFyWOQSYTo9Abuecq9VzjkDd5LjVfXmQQMW4FGdmE5BAQ2TJhJdTkECt7h/SokaQQACA1v3/f5BAdCZA31iAkEDMF/a4yaeQQPL5NIrPnZBAnnCCL+u/kEDrPAap/UWMQJOEEg/n2JBAlzA5IICxkECTSAPRQvCQQPz26GdS0pBA7hlUcbTtkEAjjX1fkwuRQBUqG9EvXo9A6enhuCcGkEBrWxsf6fKPQCtGGg6n/o9AlfRGp/EjkEB44ffYSNyOQIIk7FbeK49AoUZYo8sYj0AjNbHLJiKOQKhem6DHeo9A0S581JqXjkBq8L0Ri7aNQM2K6tq0A5BAQWYX5QSnjUCsES42zYKOQOeRWaS07I1A+URRvBYGj0D8nJaQbkmPQNYLRe5GPY5ApbbojWeIj0AtbHJOGDOPQBZb3QwDLY9A2yMx6rmPk0AkB8I4f4qPQP75saCfJ49ASokb5xnFjkC9iItzjYuPQCVID+J3V45AFcQbBMbZj0DkUTaAp76OQAPnWNJK045Adv89Fh0Fj0B/pUQiztOOQPawzJ9vA49AbO1rDGmrj0CZHBHlxrOOQD4zW5lJHY9A3mbTHj6Wj0B7u+EQSb2OQDUNX9mKW49A+eMCPlvrjkBCT9z07r+PQLfqPEhyMY9AfwksfXYpj0A/bAiUkyePQLwIQSbaGI9AMQToobdIj0BUHJgTi2WPQBpvHXgaio9AT77PmbaPj0CtFwnNefCPQHAIcLjunI9A5WFtPr9nj0CDnLKlAyqPQGpfFopqc49A4NVGQulTj0DEWJ08roKPQHGLWEAJHI9A+j0uW57hjkDuUHM90UqPQC4TLhw8MY9ABS86zhc7j0DKMbHmnUuPQNQAh/aF/45ABT8UOxc+j0DKGlM2Ji6PQFhMklV1QY9AUQrHpFsnj0AyHpj33ymPQDPsR/QsDY9AQkiIec0ij0CZM2/xdiuPQJafor8FE49AAu6rgIgdj0Dx+HDEwgePQOLVx5YN9Y5A851IzFtbj0CJAWXRG5+PQBQ07enCv49AU8sZ5t8wj0BERue5xR+PQEgb2ecZ5Y5Ak+Z5ThPZjkBPC5uonu6OQC+p0uGs6o5AkZqJgWHwjkA8dNjJSveOQLpi+fEj045A1HWexJLojkAZkX+30fKOQN16FvJk0Y5AqEHF5U0Kj0A6fnxN2FuPQJtNg7p5fo9AhGtjm1CIj0BiVw8eFoGPQHxt1acPLo9ALTlE95PXjkATYw17v+KOQPJyqDfX4I5AQ1Ipl/PqjkCe2XMIquiOQI2/Wdlg345Ar0DePj7kjkDJ0gwhROKOQNhEG0bxJo9Azy0xGL6Gj0CZ5cfb56iPQDXpvraoe49A09I4MhgRj0C6HoEyguWOQIOGKfN25Y5ADC4DhHXojkAtTLO0SuWOQD2zka6L4o5AvvTFZV7ejkCcViE8si2PQK6JbXeDWo9AJqjEgbnQj0CGXKCisoKPQG9zER1ZTI9AhG+SOPdGj0CbBrAHq2mPQO3PiUsSNI9AZdqPurrwjkDJrb0HC/mOQBTPoGNcKo9A1mFGjLySj0A3lbsS/B2PQJR37YCb4I5A1Hk7HZHgjkBs89T4gtyOQDjwl6p55I5A",
          "dtype": "f8"
         }
        },
        {
         "marker": {
          "color": "rgb(0, 0, 153)",
          "size": 4
         },
         "mode": "markers",
         "name": "Bounds Check, Tile=8",
         "type": "scatter",
         "x": {
          "bdata": "LgAxAEEArADHAM0A2QATAR0BMgG0AdIBMgI3Am0ChwKVAqsCvALcAuoCBAMSA48DrAPKA+8D8wMaBEoEVQRxBKcEtATJBO0EEQVmBZcFqQWsBdkF5gXpBR8GNgZCBksGXQZeBswG4wb/BgkHDQcuB+MHHwgvCHkIewjcCOcI7AjyCPUIIwknCSkJQgl6CfcJBgoUChkKIQptCuMKJAtcC2kLeQuuC8UL5QvsCyoMNQxnDIMMiwyPDJoMoQypDMcMzgz3DAsNHw1PDcQNxg3NDdMN3Q1lDmwOow7ZDuUOCQ9dD2sPbQ+ND44Pow+0D70P+w8fECsQMxA6EEQQTBB5EIkQixCpELIQ8hD8EAwRJBFZEQ==",
          "dtype": "i2"
         },
         "y": {
          "bdata": "pcsF0MwCI0DkLWvoCAgwQHZF1Ps/oURAWxQP11Jne0BGwkAo6/mAQM4fU/pnpnlA5YQFwhJFgEC6Yl4npI55QJcOlTfdHYJA5foZHIfPhkBD12nai/yJQHQWC5Kl6IdApNhhY5ozhUDz5xAerwaLQLyPn/9+k4pAdikm/svzikAG/dB5XgaGQPzp+TYf3IpAZIsPwINjikCZwW8HM2+AQD/pbEeBDYtABumKOdidhkBkVkgX/riCQB8qxsl+f4hA7SbA/RH7jkDNQ7b0Z0SGQCVvV4gwPIpAYaYCd2X3h0A79ytCiuaGQAx0zVLLKopAYIJwT7tSh0Dke+S13JSIQEd4fWrcXIpARfBuRdzKikCcqy3b132OQPNcZI61sJBAEzzDWv2TiUA41ozWQ/mHQE5UGOR7jIhAcvj6XCBMiEBEwiDL1XGQQOSu/CEWaIlAf+XVifmBiUAW42//zByQQO9jIATNU4hAWkaQ/cXri0Bs2j7tV0yPQMr7eMabkoZApCGtt9E4iECqFAxz4gCLQBlfTiedcpNAdd/bPe2miEBxq3GDAXOHQJ8bC1iz7YdANaSnFRQSikAn6MITO36JQKTwurZArIRAyQ9siuVUiECbgmZipY+KQEYxKE7hfIZArD7AptdohkCavDB2WveEQDK2hHyKK4RAqWCpgedGhkBrp/+It8iGQDEzK5Q7gIZAr9Eo+xNph0BDrlbMphiIQNjsFR3s7YdA/4OUJSrThUBAeR8q0qKFQBH+DpBFEoZA4u5tpO8YiED1avNJX6yGQLtiPxegzoNA09b+OMAPh0CaSllak4aGQJ4MEpFEsIdAZMe3DPBlh0DItddwy2eCQNNzZV0BuYVAXOBk6JKthUCqa2aI5oWGQNrAh1srd4NAoKGm2iB+hkCs7i1t4mCIQOxP+uDv8WpAfsIhNoo7iEAmLdJZ806FQFKUxrUGOodAKegNOv/Ph0DvE9FXi++HQHqulbcKe4ZAMdC5vycfgkCfbB3jiTuGQOeJMIwsDohAvqn5h/DmhkABSDDmPeCGQLEkL5ihmYdAj9sWWjLqhkBndXRUQT2FQHmd3jiio4ZA+AYblGQth0DkSArvZd2GQLHZ+KEjFYdAfQHoWknihkAiL4z8RJeEQDvtxsiTPYZAYjjlVAZ0hUBP3GXiV0KCQERvaL7Q04VAZ5HdUf7WhUCElqGhn5CFQEY7uKmfKoVAD1Ner+x8hEDRk009Vz6GQD3bUBQ5P4ZAe7Zyge0whUCuLih91jKEQOrNN1gWQ4RAW2mJ7HklgkDvIkWov+uAQCSLhZR6O4ZAHvX4FMiHg0CjxtwA6MaBQIXjv5liyYNAy5sMScRwg0At8NWXAf+DQB/YK+OwtYNAwpm+FAmrhED8MgVXcAaEQLxfdS584INAd+bdUW3egUA+duiUvcGAQI2oppyxTIRAB3XUbghbg0DdoD0u/KaCQA==",
          "dtype": "f8"
         }
        },
        {
         "marker": {
          "color": "rgb(102, 102, 255)",
          "size": 4
         },
         "mode": "markers",
         "name": "No Bounds Check, Tile=8",
         "type": "scatter",
         "x": {
          "bdata": "QABgAIAAoADAAOAAAAEgAUABYAGAAaABwAHgAQACIAJAAmACgAKgAsAC4AIAAyADQANgA4ADoAPAA+ADAAQgBEAEYASABKAEwATgBAAFIAVABWAFgAWgBcAF4AUABiAGQAZgBoAGoAbABuAGAAcgB0AHYAeAB6AHwAfgBwAIIAhACGAIgAigCMAI4AgACSAJQAlgCYAJoAnACeAJAAogCkAKYAqACqAKwArgCgALIAtAC2ALgAugC8AL4AsADCAMQAxgDIAMoAzADOAMAA0gDUANYA2ADaANwA3gDQAOIA5ADmAOgA6gDsAO4A4ADyAPQA9gD4APoA/AD+APABAgEEAQYBCAEKAQwBDgEAARIBFAEWARgBE=",
          "dtype": "i2"
         },
         "y": {
          "bdata": "WUw0AtFYP0A3M8GimZlVQN7dbZeZmWlA6q3Sh4ESckBHtpN4arx0QEsoN5RaqX9Axg3lryhYhEAyvqckZCGFQAvAihXPeIZAwDT684ufhkC/B+j2iFaIQJd3FXLpL4hAzeer8iPViECOFnhvyjeJQKrhkugX6IdA3PLxHDr7iEDd59/dsAeJQOUDLLOgL4lA1uUZHpDViUD7ZBAbFxCKQFcJX1aLzYlAcVi+1JclikDhCRAGJDmKQHPSP4v2IIpAG7TaCQEsh0BGarcefvaGQDXGTw1vL4pA+byQWZaNikCdhdDUCf2IQPo6oS7NIYhAChzih14iikCmeGl9ysSKQFB5QbtpYopAMpSFC/mIiED3tlKOxyaJQAWXaVNjsolAqaHWpH3ZiECGV37LMM+IQBl+JjMFQIhANXsl7qBMiECuXAaeubCMQC78A2ZcIZBARMtglO0fikDaMdV7h7qIQDqQBUtIN4hAUX7v9QxbiUD7rj3EruWHQBrEzst8N4hAgtADtmeAkEDCfDnr0+OIQFWFu+Dh6YdAyPVMgNW+i0CUmBPJwHiHQM3U8Rya+oZAcUMQKtqliECTsiGmMfOMQPLUFEbSBItAHsb0nCk6h0Bov/NGk36HQPj7IJ5Zr4dAqhXMIgfBh0Dtx7gesXqLQBvDw5DtG4pAlTyAQvctiUCpCP5xygSIQLpsbd8VX4dAhd0Dl9vmh0AP/EuPv9+GQDWjP82884ZAbo73kevXhkC/rfITdW2HQOD9t8ZjboZA7U9pPLwWh0DGh/tf9Y2GQHLpCCWroYZAwEs5WhpShkCa4D4aQHKGQFwZ0Bw3eIZApixjXsw3iEBMqTmpNkSGQFxAISRQnYZACmboeUwOhkALSSJLYZ+GQPNnHdDi7IVAlep43/pRhkCcmH3GiWGFQIh6UZo9VYZAV264Ul09hkC+eLAf7o2GQC5qRLATR4ZA/aO9FK0Rh0CXjAeiaeKGQDMHRGVZ+IZA9b1O0yhkh0Dc/I9t0BeIQE6FmC34AYdA+Xuc9On3hkCHyaMudG6GQPedB6KjKodABs2k1qjuhUDLMkJd4rWGQARyOJNGwIVATLAFa++jhkDPEL9cf6uFQAu2qkyQGIZApNrqvXJbhUDLVpzk6D+GQAX7b9xbqYVAzwYtLWJNhkAjxr9k9/2FQOR7YebIcoZA8WKyP701hkAirqxRzg6GQL+5SO7gZIVAQ4BTnt8GhkBWDzhK+aiFQC/dBD/hboZAkcM0hyM9hUCxrm3fX2CGQDvFMeqOoYVAuZl8eFmRhkB9y9SJeu6FQOGwrxZpRYVADYRd3T0NhkDy9wBcS/iHQD/7rhRHCIZAow8LS9T/hkBvssK3seOGQDF2kNjSM4dAarzUnUfShkDSVBM1ptOEQPpMs2WPuoVAu4rShMMXhkDoeWS27VmEQBVxTS4+/4RAaMpWa8lqg0D5dyas2/2EQOYeG2hBXYNAKboUH6F7gkA=",
          "dtype": "f8"
         }
        },
        {
         "marker": {
          "color": "rgb(102, 0, 102)",
          "size": 4
         },
         "mode": "markers",
         "name": "Bounds Check, Tile=4",
         "type": "scatter",
         "x": {
          "bdata": "MQBNAGEAdwCCAKUA0QDtAD0BXQFeAXcBmwGhAcEBwgHNAQICAwI5AlsCagKBAtEC3wIJAyIDMgM5A1UDcQN3A48DzwPxA/4DNQQ5BI0EkwSrBMsEGgU+BWcFcgWfBckFzwXZBRkGUgZuBm8GfgaGBp0GpQauBs0G7gYvB1EHdwePB5YHrge+BwMIFQgqCC8IUgh9CJ4IqQjOCfkJEwo7ClYKbQqlCrkK5wr6Ci4LMQtDC04L",
          "dtype": "i2"
         },
         "y": {
          "bdata": "3qNV+p+eKECigZgTeRNNQIxeoS7nDFdAkGUbzi7bXkDZtJbz6X5iQEjIZwf/iGZAKDDddlQua0D4l71qlUduQJ60PZmdcW9Ag02CVasQcEDOhW0BCCNuQHpUPpFbMnFADN4TALChcUB58vvV+xxwQCQpEcTU229AyM75kVosb0Bz6sAqn4JxQFOFxi4lrHFA1mmwc0+7cUASCWcnmLJxQMa9Ap4B625AGMer0FYiaEDA2ZJ1X8tnQLrceE5OC3BAG4si2ZfHbEBXK4ieMk5tQHDVMLSY4mlAYLubOiNxakAW7aTWHZNpQD44/6jiK2tAsSuJbRl3a0DfY1PXLUhxQPExW/+s2m9ATZ7AxPCob0Atrqb9UR9tQDQoAdAqBWhA24lfGZKcZ0BjPpjmoFNnQFIEhHgIxmZAoPMK/9DAZkAPQ70z2s1mQE/qk81H9WZA1cm4XIt2ZkCtAQj8qdVmQDMuPkE1BWdAP0VHxEKiZkBtB/FhzaxmQGNmIYyuDGdAXNQXKvL2ZkD5TdpY1a9mQFNImDe65GZAGhx+ZMvcZkCpnhpjD6RmQMktcJiwsWZAekTwvg6bZkCFF0lgeo5mQLHxCs41cmZAPfo3PPiVZkDJyO4DdYxmQHLquGwM3GZAS+dvPCt7ZkAie6c0ENtmQIGyJKsQwGZAsBaLUsrrZkDsLAs6BfNmQJX98dJg9mZA4vzizUAMZ0CTmX9n37VmQB7pOJPXL2dAgXftmY/oZkDEVYoUcrtmQBL/ZynMJmdAUcu8bBPQZkAIzSEozIVmQFhDj3MkhmZAu/VY/DsOZ0DF1psqgz5mQE7EGiH5mWZAMWn75MNWZkCOz+7v9UBmQJDiy/q3CmZAMTKzIXcNZkAjMeuH+VhmQOCu/9Ewd2ZAK0qA+8y4ZkBXUmoT9SVlQJSGbg7Pe2VACxvRBLJxZkAPvudpR4RlQEvEQxZkZ2VA",
          "dtype": "f8"
         }
        },
        {
         "marker": {
          "color": "rgb(255, 102, 255)",
          "size": 4
         },
         "mode": "markers",
         "name": "No Bounds Check, Tile=4",
         "type": "scatter",
         "x": {
          "bdata": "QABgAIAAoADAAOAAAAEgAUABYAGAAaABwAHgAQACIAJAAmACgAKgAsAC4AIAAyADQANgA4ADoAPAA+ADAAQgBEAEYASABKAEwATgBAAFIAVABWAFgAWgBcAF4AUABiAGQAZgBoAGoAbABuAGAAcgB0AHYAeAB6AHwAfgBwAIIAhACGAIgAigCMAI4AgACSAJQAlgCYAJoAnACeAJAAogCkAKYAqACqAKwArgCgALIAtAC2ALgAs=",
          "dtype": "i2"
         },
         "y": {
          "bdata": "WNUu9///P0Azs8SXmZlVQBwtRUaFCmVADv+8K9+Fa0ChqYLTb8lyQA/a2yEYdXJApFlY6VUDdEDBzM1RhWN1QC2ScPnORnVAJUl2E7+7dUC5krz2jLZ1QHRsg64S03VAUsv6a6VadUAQlHTD2AV2QP/hmhwTFnVAOISFgy5fdECEjdEjNmF0QG7wXE9fkHNA02qc6iUzcEA7NC3iOF9yQPfBG1HPVHBAadysiO28cEAM5S4sv75sQLDprwyRvHBARitf/4Sqb0ChdgAGkidwQH0Y2gQ+EnBAIHrmUtO4cEC7D2nUFPxwQFq4q77lKm9A3zkSjKaqbUB/yiXotExsQFbmE69722dA9GDl9Sl9aEDOjx0miDNpQAnnhMybomlAmSP6u5KsaUDR8kWRfltrQLKDTL+/PWZAy8p7HFpSZkCWT7GsyOFmQITCEHXVp2ZAmOyj4TbtZUDzqrEeGrBmQKYHU8OI5GZA86MGubMqZ0BPoY3SXUpnQHZLNy6k+mZA3epgNHl2aUDUBHlmhOlmQGB+3ynbr2ZAY1lSXPi1ZkDZhMq7wMdmQIErJ1RoqWZAz58NjoLPZ0DzLGLGzKlmQE6HVEyTtGZABk9ROV6UZkApMvsXE6RmQLoEN8ZNjGZA/VLtOK6cZkA1xjviANZmQAO3Brj6O2pAryp80nezZkAeg3+QqYdmQL2n7BtFe2dAXNNSY1I/ZkAKd4tKX0RmQKwRDnfWMGZAYIpde0MNZkAZpFst2BdmQG2COoQv9mVAvbb0UqLwZUAX1lnIj+dlQFtzE6r13GVAJ0j1m1zdZUBVw1DGmQFmQLCya4IZGGZAi+3/U+IQZkC4otviMRllQH5V8WELxmRA54bYEtDCZEBo5TU+A5tkQKLaBrE/dmRAHwfAKDdyZEBDZR9cZW1kQMtlvxdFl2RAeNPalYGNZEAM62kynb9kQC43ICVIw2RAbctmdcrwZEA=",
          "dtype": "f8"
         }
        },
        {
         "line": {
          "color": "rgb(128, 128, 128)",
          "width": 2
         },
         "mode": "lines",
         "name": "Naive Implementation",
         "type": "scatter",
         "x": {
          "bdata": "QABgAIAAoADAAOAAAAEgAUABYAGAAaABwAHgAQACIAJAAmACgAKgAsAC4AIAAyADQANgA4ADoAPAA+ADAAQgBEAEYASABKAEwATgBAAFIAVABWAFgAWgBcAF4AUABiAGQAZgBoAGoAbABuAGAAcgB0AHYAeAB6AHwAfgBwAIIAhACGAIgAigCMAI4AgACSAJQAlgCYAJoAnACeAJAAogCkAKYAqACqAKwArgCgALIAtAC2ALgAugC8AL4AsADCAMQAxgDIAMoAzADOAMAA0gDUANYA2ADaANwA3gDQAOIA5ADmAOgA6gDsAO4A4ADyAPQA9gD4APoA/AD+APABAgEEAQYBCAEKAQwBDgEAARIBFAEWARgBGgEcAR4BEAEiASQBJgEoASoBLAEuASABMgE0ATYBOAE6ATwBPgEwAUIBRAFGAUgBSgFMAU4BQAFSAVQBVgFYAVoBXAFeAVABY=",
          "dtype": "i2"
         },
         "y": {
          "bdata": "v26SPDUyQEChAgV3xB1ZQJABH+gQYm1A3/YPAy8RekALbcj5//+DQGrf8ELu+oBAtaauinuQhkD2ouUFfUGMQFnVk1qgP4lAhx0jQKv0jkB/yCWHm2OSQKLJvuagx5BA3DHJBfoLkEBDgQBhJ3aSQHdrSEkEHJFAT3PvjGCqkECS6Pp1sN+SQKsVG2eMFpJAd19WwHSGkkAmfyxUIl6SQEUA8GXfm5JAmeYyF7hVkkBdsGRnRjCUQNoJ5tnjoZJARZ5PkUzIkkA+GOcsE2eSQH2awdCyzZBA22NIYrIhk0AdjSecNPaTQOTzNVGwRZNABqfAmxRdkkAU2D8U5sWSQCl9iMNO85BAR7pHhrlbkUAT7VYDSpSRQB/EpU4tppFA6SKzmHSGkUCuRDsOeN+PQJrz8twY8o9Aa9LqpaVRjkDemwJJAOuPQCm0wof13Y5A+HhHKYoEj0CSgwjvnqSMQPyAxxLKMI1AEX98hP2ujEDOXhxY1RuPQBsZUl13TIxA9JqBLSlwjUA1xlAXvC2MQMpRxU7KpotAn7RncZ/xjkBcTBiMg4eOQEu3AJQTY45AknGaDhSYjkAQ25sVPJaNQNZNnMpw4Y1An9vGRl09jkC4QDcvey2OQOZXaMPzJY5ALKdFFfeNjUAsUvAwtFKOQBpnPKVR54xApTrUxWJojkCBlLrImJuOQIn2ZLCbYI1AP16wo41jjUCIoRR1VgaMQIwR6fqOToxAIhf1f8xDi0DJO0/tapuLQO6lwIXjrIpAJ3he8rxwiEBHp7bg5emGQHI/sLBNYIZAfWygHi3mhkBbZ4A34IeHQC+755g/a4dAko661wBNh0DqKSFOYV6HQEJlpdL05IhAQZJyzH7KiED8SEF3Q+6GQBNaj0WSs4hAB9kHEJBliUAwOxtYgIWJQCluxNnvKohAyYU+6Pz3iEB56ciB08mHQGfCjQkORIhAPmHbZe0FiUBpg2BJBvqJQE6tiu4kR4lAupr9Mlk5h0AFYSdlfQ+JQIlA7S5eF4pAKnNEgdUaiEA2hY6pJIyJQGUjFS8MdYdABBkUD69wh0Bgy4M5AkKIQOoqIRQYCYhArH/xpJALiUAO8YKboteIQGDU7eKVK4hAuGV6qLB+iEAbJXEj4BaIQDvbmtsabIlAOA/6VLa9iECDpH9x4/+IQNYKi6kXVYhAcjhdg4+KiUA1cOy241CJQPVgWncvSIlAhG+CLxtaiEAjBB96aKmIQBlnTP2gnodAfSF9LhFDi0D34/H1pIuIQMfeNkP6s4hAbn4dw/38h0BPVmph3JeHQNE+tPfGcohAyvT1wp3vh0CoVAuXCcOHQA8vRygOvIdAA1cPoicuiEA3Vxz6NliHQEE+JPWcTIdAbYwO1oj3h0Bjfknv/XGHQDlu1qKlAodAsQNvzOf/hkCyTzi+PRmHQDc+AiqOdIdAUS8S6/LMh0CrbsCKElCJQLIYjLnxAYdACsQcCnAQh0AP51cnVUaHQGdF8VF3IYdAzSjMz08fh0Dg0MH+pE6HQFCTyxC3hYdAw7/YweNAh0Aa6kPsWEaHQMpVwy2RVYdApVAAsdo0h0DySoS8WSyHQLe2O4r0WodAV5s67tBxh0DC4sMXjQKHQIXZiQmOoodA93Jlp5r+hkBDkCGpSweHQGY7ABsBcYdAebV8i1DGh0DY5VpiV3SHQEAZHGUiVIdA1lx4bjW9h0CpExrk8VOHQDerskMhkodA4ZzP2LCmh0Dt4EmlS2uHQIlSQhSxS4dAjQX5GDNKh0CGUY6v4YmHQGwMChUhLIdAq/q8zGQFh0CkbxpWpP+GQPw1OLt6PYdA0AhCR6xgh0C+S5pM+QSHQPuTKWT7DodAk7LWxkhNh0A=",
          "dtype": "f8"
         }
        },
        {
         "line": {
          "color": "rgb(0, 0, 0)",
          "width": 1
         },
         "mode": "lines",
         "name": "NumPy",
         "type": "scatter",
         "x": {
          "bdata": "QABgAIAAoADAAOAAAAEgAUABYAGAAaABwAHgAQACIAJAAmACgAKgAsAC4AIAAyADQANgA4ADoAPAA+ADAAQgBEAEYASABKAEwATgBAAFIAVABWAFgAWgBcAF4AUABiAGQAZgBoAGoAbABuAGAAcgB0AHYAeAB6AHwAfgBwAIIAhACGAIgAigCMAI4AgACSAJQAlgCYAJoAnACeAJAAogCkAKYAqACqAKwArgCgALIAtAC2ALgAugC8AL4AsADCAMQAxgDIAMoAzADOAMAA0gDUANYA2ADaANwA3gDQAOIA5ADmAOgA6gDsAO4A4ADyAPQA9gD4APoA/AD+APABAgEEAQYBCAEKAQwBDgEAARIBFAEWARgBGgEcAR4BEAEiASQBJgEoASoBLAEuASABMgE0ATYBOAE6ATwBPgEwAUIBRAFGAUgBSgFMAU4BQAFSAVQBVgFYAVoBXAFeAVABY=",
          "dtype": "i2"
         },
         "y": {
          "bdata": "zwEeEVGkyT+3CyKu/dNPQOWjZBw7EGBAE8/GXGJhIUCoiUoCcFf6P/I6s+FJ2GNA8Tt7GcIITUCdmEFjQQ8aQDlvi7n4qyRAXhYFeAq2UkBgceYcipIvQA/vN49DeiZAIDzP9a1mQUBYkNXvJBtYQNZRt3z6mEdAVNhVohqUeEDZ812EDzFeQHarz3T1hHNASolZaiAZfUBtAF/CQsF8QJdIGTJibXpA0D6I08uadkCDKONJ7Ct+QG4JJNaVtX1AAnqzIeN9ekBWBVF7hUl1QB4ut3YLaX9AYLBd8gzHa0CzCojkaTJ2QJdi6P0xg3tAYUsP5am2ckD3RmUrV0pyQJY0b9GxAIBAPLidaKdxfEDP0ITMPziBQLtrFbuUyntAt+EfeBxagEB0esOISYZ6QAypAhdr+F5AkJ7nGePzdUACLtUrmUt/QLcJE9lnKXxAGUC7CXeYhEDgbSxphbd+QJyk9o+MBYNA//3yWg8ZgkDVgHiu/tuBQCUNLJ6ennBANxw+9N74gUCbh3nLc3aBQNZtmcROWYRAYMoilNZgdkD49P82HN59QIXQooyEZ4FAhNzfCLbog0A4mKs4TaiDQJ6xjzJuIINAqImF4KvmfkB5Dt4zEz98QGJ5tcXHIoNA6igwsVp7g0Do+bbQPiaDQM5hkniI7oNAmUqJyaTIg0D9W676GA6DQDah8FyH44JA8Z9wBwlggEAkr7BJWTuDQMcwh8pvYHZARydh+9Ndg0AlAuMloWmFQLbYzGb3S4NAEMgYAjkEgkBDp3fw+FWCQHP2fa1ft4RADmy820htg0AMkWskLUeDQPsqgI4sdYJABKTwWaBuhEBfeGCIvD6CQP+bAWD1YYRA+5TkKtSKf0A0bnqUPPSEQFqnOfECPoRAAn19LoCvhEB3tbiWSRSBQAbl27ScgIVA+WCmZViWg0AeShPKFYOEQEv6EVSrUX9AHHpqknPvgUBjGisKjl9/QEN4N256Z4FAUDlQuKVDgECeRTWhyGGCQNRsGZxUKX9AJJOWZ4G5f0ADaI+qXYOAQId8CbL/RYJAD5R6mXBngkBSrj1f2j6CQKpJUVuRxoFA54VdvE14gkBT3LTnrRqAQKUE8ipjEn1A+49SRDNogkCPhk57/r2CQNdyz5RiioBAeYKezG3lgkDwS2qLC7uAQLrqK2A0m4JA3gTwckYZgUCtPvlXbr5/QFX7L1/DJYBA6koXPf5UgUCQdzcUyKaCQKQF6+R2RoNAbjHpEqobgkC6DEGr/LiDQPNlEQWzLYNASvHa09pjg0DD0oEmPDyCQLdsa5ae6YFAy+uuFseIgkA+Mh+MwueCQEIVONpXyYJAMgeC6GMjg0AaUmAhsiyDQKgSkdW8XYJAG/ZmU40IgUAvZv4qJtOCQIONljCQAIFAc4tchPpfg0Cav+O/NemCQB2yYjyowYNAy2/sa05ygkDNiCTCyk+DQM4EBnvuzYBA2KEYfCgXg0BRVZbGYTOCQHackGl0jYJAdcyEg47AgEBvQseLh1yBQH/kexOva4NAGxsuq7TSgUCbr7a2m/+AQOWlxmSk/IFADCeld6zGgkBZqPaM2quBQDGWJ3aft4FAc0ibppMCg0AIuJf6zfSCQBKYSQVbKYJAqveCMlUvgkAgxEupMAKDQPF2dgA5z4FAghtH75JPgkAP6VObesqBQHrNMdH4c4JAn5tRApe3gUBuFeWlw3uCQN8VLN1v8YFADMGyqCzxgkBbLn/AyXWCQJNakEA7toFA4Dz+P6mBgUAh9Q5LXDODQA5EEkob8YJAwEmjEjxRgkDHblQhS4CBQPnYb0kpaoJARWAZcLs2gUBtBa/dOu+AQNTi75RnKoFAYeQLt2A+gkA=",
          "dtype": "f8"
         }
        }
       ],
       "layout": {
        "height": 800,
        "hovermode": "x unified",
        "showlegend": true,
        "template": {
         "data": {
          "bar": [
           {
            "error_x": {
             "color": "#2a3f5f"
            },
            "error_y": {
             "color": "#2a3f5f"
            },
            "marker": {
             "line": {
              "color": "#E5ECF6",
              "width": 0.5
             },
             "pattern": {
              "fillmode": "overlay",
              "size": 10,
              "solidity": 0.2
             }
            },
            "type": "bar"
           }
          ],
          "barpolar": [
           {
            "marker": {
             "line": {
              "color": "#E5ECF6",
              "width": 0.5
             },
             "pattern": {
              "fillmode": "overlay",
              "size": 10,
              "solidity": 0.2
             }
            },
            "type": "barpolar"
           }
          ],
          "carpet": [
           {
            "aaxis": {
             "endlinecolor": "#2a3f5f",
             "gridcolor": "white",
             "linecolor": "white",
             "minorgridcolor": "white",
             "startlinecolor": "#2a3f5f"
            },
            "baxis": {
             "endlinecolor": "#2a3f5f",
             "gridcolor": "white",
             "linecolor": "white",
             "minorgridcolor": "white",
             "startlinecolor": "#2a3f5f"
            },
            "type": "carpet"
           }
          ],
          "choropleth": [
           {
            "colorbar": {
             "outlinewidth": 0,
             "ticks": ""
            },
            "type": "choropleth"
           }
          ],
          "contour": [
           {
            "colorbar": {
             "outlinewidth": 0,
             "ticks": ""
            },
            "colorscale": [
             [
              0,
              "#0d0887"
             ],
             [
              0.1111111111111111,
              "#46039f"
             ],
             [
              0.2222222222222222,
              "#7201a8"
             ],
             [
              0.3333333333333333,
              "#9c179e"
             ],
             [
              0.4444444444444444,
              "#bd3786"
             ],
             [
              0.5555555555555556,
              "#d8576b"
             ],
             [
              0.6666666666666666,
              "#ed7953"
             ],
             [
              0.7777777777777778,
              "#fb9f3a"
             ],
             [
              0.8888888888888888,
              "#fdca26"
             ],
             [
              1,
              "#f0f921"
             ]
            ],
            "type": "contour"
           }
          ],
          "contourcarpet": [
           {
            "colorbar": {
             "outlinewidth": 0,
             "ticks": ""
            },
            "type": "contourcarpet"
           }
          ],
          "heatmap": [
           {
            "colorbar": {
             "outlinewidth": 0,
             "ticks": ""
            },
            "colorscale": [
             [
              0,
              "#0d0887"
             ],
             [
              0.1111111111111111,
              "#46039f"
             ],
             [
              0.2222222222222222,
              "#7201a8"
             ],
             [
              0.3333333333333333,
              "#9c179e"
             ],
             [
              0.4444444444444444,
              "#bd3786"
             ],
             [
              0.5555555555555556,
              "#d8576b"
             ],
             [
              0.6666666666666666,
              "#ed7953"
             ],
             [
              0.7777777777777778,
              "#fb9f3a"
             ],
             [
              0.8888888888888888,
              "#fdca26"
             ],
             [
              1,
              "#f0f921"
             ]
            ],
            "type": "heatmap"
           }
          ],
          "histogram": [
           {
            "marker": {
             "pattern": {
              "fillmode": "overlay",
              "size": 10,
              "solidity": 0.2
             }
            },
            "type": "histogram"
           }
          ],
          "histogram2d": [
           {
            "colorbar": {
             "outlinewidth": 0,
             "ticks": ""
            },
            "colorscale": [
             [
              0,
              "#0d0887"
             ],
             [
              0.1111111111111111,
              "#46039f"
             ],
             [
              0.2222222222222222,
              "#7201a8"
             ],
             [
              0.3333333333333333,
              "#9c179e"
             ],
             [
              0.4444444444444444,
              "#bd3786"
             ],
             [
              0.5555555555555556,
              "#d8576b"
             ],
             [
              0.6666666666666666,
              "#ed7953"
             ],
             [
              0.7777777777777778,
              "#fb9f3a"
             ],
             [
              0.8888888888888888,
              "#fdca26"
             ],
             [
              1,
              "#f0f921"
             ]
            ],
            "type": "histogram2d"
           }
          ],
          "histogram2dcontour": [
           {
            "colorbar": {
             "outlinewidth": 0,
             "ticks": ""
            },
            "colorscale": [
             [
              0,
              "#0d0887"
             ],
             [
              0.1111111111111111,
              "#46039f"
             ],
             [
              0.2222222222222222,
              "#7201a8"
             ],
             [
              0.3333333333333333,
              "#9c179e"
             ],
             [
              0.4444444444444444,
              "#bd3786"
             ],
             [
              0.5555555555555556,
              "#d8576b"
             ],
             [
              0.6666666666666666,
              "#ed7953"
             ],
             [
              0.7777777777777778,
              "#fb9f3a"
             ],
             [
              0.8888888888888888,
              "#fdca26"
             ],
             [
              1,
              "#f0f921"
             ]
            ],
            "type": "histogram2dcontour"
           }
          ],
          "mesh3d": [
           {
            "colorbar": {
             "outlinewidth": 0,
             "ticks": ""
            },
            "type": "mesh3d"
           }
          ],
          "parcoords": [
           {
            "line": {
             "colorbar": {
              "outlinewidth": 0,
              "ticks": ""
             }
            },
            "type": "parcoords"
           }
          ],
          "pie": [
           {
            "automargin": true,
            "type": "pie"
           }
          ],
          "scatter": [
           {
            "fillpattern": {
             "fillmode": "overlay",
             "size": 10,
             "solidity": 0.2
            },
            "type": "scatter"
           }
          ],
          "scatter3d": [
           {
            "line": {
             "colorbar": {
              "outlinewidth": 0,
              "ticks": ""
             }
            },
            "marker": {
             "colorbar": {
              "outlinewidth": 0,
              "ticks": ""
             }
            },
            "type": "scatter3d"
           }
          ],
          "scattercarpet": [
           {
            "marker": {
             "colorbar": {
              "outlinewidth": 0,
              "ticks": ""
             }
            },
            "type": "scattercarpet"
           }
          ],
          "scattergeo": [
           {
            "marker": {
             "colorbar": {
              "outlinewidth": 0,
              "ticks": ""
             }
            },
            "type": "scattergeo"
           }
          ],
          "scattergl": [
           {
            "marker": {
             "colorbar": {
              "outlinewidth": 0,
              "ticks": ""
             }
            },
            "type": "scattergl"
           }
          ],
          "scattermap": [
           {
            "marker": {
             "colorbar": {
              "outlinewidth": 0,
              "ticks": ""
             }
            },
            "type": "scattermap"
           }
          ],
          "scattermapbox": [
           {
            "marker": {
             "colorbar": {
              "outlinewidth": 0,
              "ticks": ""
             }
            },
            "type": "scattermapbox"
           }
          ],
          "scatterpolar": [
           {
            "marker": {
             "colorbar": {
              "outlinewidth": 0,
              "ticks": ""
             }
            },
            "type": "scatterpolar"
           }
          ],
          "scatterpolargl": [
           {
            "marker": {
             "colorbar": {
              "outlinewidth": 0,
              "ticks": ""
             }
            },
            "type": "scatterpolargl"
           }
          ],
          "scatterternary": [
           {
            "marker": {
             "colorbar": {
              "outlinewidth": 0,
              "ticks": ""
             }
            },
            "type": "scatterternary"
           }
          ],
          "surface": [
           {
            "colorbar": {
             "outlinewidth": 0,
             "ticks": ""
            },
            "colorscale": [
             [
              0,
              "#0d0887"
             ],
             [
              0.1111111111111111,
              "#46039f"
             ],
             [
              0.2222222222222222,
              "#7201a8"
             ],
             [
              0.3333333333333333,
              "#9c179e"
             ],
             [
              0.4444444444444444,
              "#bd3786"
             ],
             [
              0.5555555555555556,
              "#d8576b"
             ],
             [
              0.6666666666666666,
              "#ed7953"
             ],
             [
              0.7777777777777778,
              "#fb9f3a"
             ],
             [
              0.8888888888888888,
              "#fdca26"
             ],
             [
              1,
              "#f0f921"
             ]
            ],
            "type": "surface"
           }
          ],
          "table": [
           {
            "cells": {
             "fill": {
              "color": "#EBF0F8"
             },
             "line": {
              "color": "white"
             }
            },
            "header": {
             "fill": {
              "color": "#C8D4E3"
             },
             "line": {
              "color": "white"
             }
            },
            "type": "table"
           }
          ]
         },
         "layout": {
          "annotationdefaults": {
           "arrowcolor": "#2a3f5f",
           "arrowhead": 0,
           "arrowwidth": 1
          },
          "autotypenumbers": "strict",
          "coloraxis": {
           "colorbar": {
            "outlinewidth": 0,
            "ticks": ""
           }
          },
          "colorscale": {
           "diverging": [
            [
             0,
             "#8e0152"
            ],
            [
             0.1,
             "#c51b7d"
            ],
            [
             0.2,
             "#de77ae"
            ],
            [
             0.3,
             "#f1b6da"
            ],
            [
             0.4,
             "#fde0ef"
            ],
            [
             0.5,
             "#f7f7f7"
            ],
            [
             0.6,
             "#e6f5d0"
            ],
            [
             0.7,
             "#b8e186"
            ],
            [
             0.8,
             "#7fbc41"
            ],
            [
             0.9,
             "#4d9221"
            ],
            [
             1,
             "#276419"
            ]
           ],
           "sequential": [
            [
             0,
             "#0d0887"
            ],
            [
             0.1111111111111111,
             "#46039f"
            ],
            [
             0.2222222222222222,
             "#7201a8"
            ],
            [
             0.3333333333333333,
             "#9c179e"
            ],
            [
             0.4444444444444444,
             "#bd3786"
            ],
            [
             0.5555555555555556,
             "#d8576b"
            ],
            [
             0.6666666666666666,
             "#ed7953"
            ],
            [
             0.7777777777777778,
             "#fb9f3a"
            ],
            [
             0.8888888888888888,
             "#fdca26"
            ],
            [
             1,
             "#f0f921"
            ]
           ],
           "sequentialminus": [
            [
             0,
             "#0d0887"
            ],
            [
             0.1111111111111111,
             "#46039f"
            ],
            [
             0.2222222222222222,
             "#7201a8"
            ],
            [
             0.3333333333333333,
             "#9c179e"
            ],
            [
             0.4444444444444444,
             "#bd3786"
            ],
            [
             0.5555555555555556,
             "#d8576b"
            ],
            [
             0.6666666666666666,
             "#ed7953"
            ],
            [
             0.7777777777777778,
             "#fb9f3a"
            ],
            [
             0.8888888888888888,
             "#fdca26"
            ],
            [
             1,
             "#f0f921"
            ]
           ]
          },
          "colorway": [
           "#636efa",
           "#EF553B",
           "#00cc96",
           "#ab63fa",
           "#FFA15A",
           "#19d3f3",
           "#FF6692",
           "#B6E880",
           "#FF97FF",
           "#FECB52"
          ],
          "font": {
           "color": "#2a3f5f"
          },
          "geo": {
           "bgcolor": "white",
           "lakecolor": "white",
           "landcolor": "#E5ECF6",
           "showlakes": true,
           "showland": true,
           "subunitcolor": "white"
          },
          "hoverlabel": {
           "align": "left"
          },
          "hovermode": "closest",
          "mapbox": {
           "style": "light"
          },
          "paper_bgcolor": "white",
          "plot_bgcolor": "#E5ECF6",
          "polar": {
           "angularaxis": {
            "gridcolor": "white",
            "linecolor": "white",
            "ticks": ""
           },
           "bgcolor": "#E5ECF6",
           "radialaxis": {
            "gridcolor": "white",
            "linecolor": "white",
            "ticks": ""
           }
          },
          "scene": {
           "xaxis": {
            "backgroundcolor": "#E5ECF6",
            "gridcolor": "white",
            "gridwidth": 2,
            "linecolor": "white",
            "showbackground": true,
            "ticks": "",
            "zerolinecolor": "white"
           },
           "yaxis": {
            "backgroundcolor": "#E5ECF6",
            "gridcolor": "white",
            "gridwidth": 2,
            "linecolor": "white",
            "showbackground": true,
            "ticks": "",
            "zerolinecolor": "white"
           },
           "zaxis": {
            "backgroundcolor": "#E5ECF6",
            "gridcolor": "white",
            "gridwidth": 2,
            "linecolor": "white",
            "showbackground": true,
            "ticks": "",
            "zerolinecolor": "white"
           }
          },
          "shapedefaults": {
           "line": {
            "color": "#2a3f5f"
           }
          },
          "ternary": {
           "aaxis": {
            "gridcolor": "white",
            "linecolor": "white",
            "ticks": ""
           },
           "baxis": {
            "gridcolor": "white",
            "linecolor": "white",
            "ticks": ""
           },
           "bgcolor": "#E5ECF6",
           "caxis": {
            "gridcolor": "white",
            "linecolor": "white",
            "ticks": ""
           }
          },
          "title": {
           "x": 0.05
          },
          "xaxis": {
           "automargin": true,
           "gridcolor": "white",
           "linecolor": "white",
           "ticks": "",
           "title": {
            "standoff": 15
           },
           "zerolinecolor": "white",
           "zerolinewidth": 2
          },
          "yaxis": {
           "automargin": true,
           "gridcolor": "white",
           "linecolor": "white",
           "ticks": "",
           "title": {
            "standoff": 15
           },
           "zerolinecolor": "white",
           "zerolinewidth": 2
          }
         }
        },
        "title": {
         "text": "Matrix Multiplication Performance vs Matrix Size"
        },
        "xaxis": {
         "gridcolor": "lightgrey",
         "title": {
          "text": "Matrix Size"
         }
        },
        "yaxis": {
         "gridcolor": "lightgrey",
         "title": {
          "text": "Performance (GFLOPS)"
         }
        }
       }
      }
     },
     "metadata": {},
     "output_type": "display_data"
    }
   ],
   "source": [
    "import plotly.graph_objects as go\n",
    "from plotly.subplots import make_subplots\n",
    "\n",
    "\n",
    "\n",
    "# Create figure\n",
    "fig = go.Figure(layout=dict(height=800))\n",
    "\n",
    "# Define colors for each tile size - darker shade for bc, lighter for nc\n",
    "colors = {\n",
    "    32: ['rgb(153, 0, 0)', 'rgb(255, 102, 102)'],  # Dark/light red\n",
    "    16: ['rgb(0, 102, 0)', 'rgb(102, 255, 102)'],  # Dark/light green\n",
    "    8: ['rgb(0, 0, 153)', 'rgb(102, 102, 255)'],   # Dark/light blue\n",
    "    4: ['rgb(102, 0, 102)', 'rgb(255, 102, 255)']  # Dark/light purple\n",
    "}\n",
    "\n",
    "# Plot for each tile size in reverse order so larger tiles appear first in legend\n",
    "for tile_size in [32, 16, 8, 4]:\n",
    "\n",
    "    # Get data for this tile size from dataframe\n",
    "    bc_col = f'tile_{tile_size}_bc'\n",
    "    nc_col = f'tile_{tile_size}_nc'\n",
    "\n",
    "    # Get matrix sizes and timings, dropping NaN values\n",
    "    bc_data = df[bc_col].dropna()\n",
    "    nc_data = df[nc_col].dropna()\n",
    "    bc_matrix_sizes = bc_data.index\n",
    "    nc_matrix_sizes = nc_data.index\n",
    "\n",
    "    # Calculate GFLOPS\n",
    "    bc_gflops = (2 * bc_matrix_sizes**3 * 1000) / (bc_data * 1_000_000_000)\n",
    "    nc_gflops = (2 * nc_matrix_sizes**3 * 1000) / (nc_data * 1_000_000_000)\n",
    "\n",
    "    # Plot bounds check data\n",
    "    fig.add_trace(go.Scatter(\n",
    "        x=bc_matrix_sizes,\n",
    "        y=bc_gflops,\n",
    "        name=f'Bounds Check, Tile={tile_size}',\n",
    "        mode='markers',\n",
    "        marker=dict(\n",
    "            size=4,\n",
    "            color=colors[tile_size][0]\n",
    "        )\n",
    "    ))\n",
    "\n",
    "    # Plot no bounds check data\n",
    "    fig.add_trace(go.Scatter(\n",
    "        x=nc_matrix_sizes,\n",
    "        y=nc_gflops,\n",
    "        name=f'No Bounds Check, Tile={tile_size}',\n",
    "        mode='markers',\n",
    "        marker=dict(\n",
    "            size=4,\n",
    "            color=colors[tile_size][1]\n",
    "        )\n",
    "    ))\n",
    "\n",
    "# Get naive data and calculate GFLOPS\n",
    "naive_d = df['naive'].dropna()\n",
    "naive_matrix_sizes = naive_d.index\n",
    "naive_gflops = (2 * naive_matrix_sizes**3 * 1000) / (naive_d  * 1_000_000_000)\n",
    "\n",
    "# Plot naive data as a line\n",
    "fig.add_trace(go.Scatter(\n",
    "    x=naive_matrix_sizes,\n",
    "    y=naive_gflops,\n",
    "    name='Naive Implementation',\n",
    "    mode='lines',\n",
    "    line=dict(\n",
    "        color='rgb(128, 128, 128)',  # Gray color\n",
    "        width=2\n",
    "    )\n",
    "))\n",
    "\n",
    "# Get numpy data and calculate GFLOPS\n",
    "numpy_d = df['numpy'].dropna()\n",
    "numpy_matrix_sizes = numpy_d.index\n",
    "numpy_gflops = (2 * numpy_matrix_sizes**3 * 1000) / (numpy_d  * 1_000_000_000)\n",
    "\n",
    "# Plot numpy data as a line\n",
    "fig.add_trace(go.Scatter(\n",
    "    x=numpy_matrix_sizes,\n",
    "    y=numpy_gflops,\n",
    "    name='NumPy',\n",
    "    mode='lines',\n",
    "    line=dict(\n",
    "        color='rgb(0, 0, 0)',  # Black color\n",
    "        width=1\n",
    "    )\n",
    "))\n",
    "\n",
    "\n",
    "fig.update_layout(\n",
    "    title='Matrix Multiplication Performance vs Matrix Size',\n",
    "    xaxis_title='Matrix Size',\n",
    "    yaxis_title='Performance (GFLOPS)',\n",
    "    showlegend=True,\n",
    "    hovermode='x unified'\n",
    ")\n",
    "\n",
    "fig.update_xaxes(gridcolor='lightgrey')\n",
    "fig.update_yaxes(gridcolor='lightgrey')\n",
    "fig.show()"
   ]
  },
  {
   "cell_type": "code",
   "execution_count": null,
   "metadata": {},
   "outputs": [
    {
     "name": "stdout",
     "output_type": "stream",
     "text": [
      "Time: 1947.409 ms\n",
      "Performance: 564.60 GFLOPS\n"
     ]
    }
   ],
   "source": [
    "m1 = np.random.randn(8192,8192).astype(np.float32)\n",
    "m2 = np.random.randn(8192,8192).astype(np.float32)\n",
    "\n",
    "start_time = time.perf_counter()\n",
    "np.matmul(m1, m2)\n",
    "end_time = time.perf_counter()\n",
    "timing = (end_time - start_time) * 1000  # Convert to ms\n",
    "\n",
    "print(f\"Time: {timing:.3f} ms\")\n",
    "print(f\"Performance: {(2 * (8192**3)* 1000) / (timing * 1_000_000_000):.2f} GFLOPS\")"
   ]
  },
  {
   "cell_type": "code",
   "execution_count": null,
   "metadata": {},
   "outputs": [
    {
     "data": {
      "text/plain": [
       "549755.813888"
      ]
     },
     "execution_count": null,
     "metadata": {},
     "output_type": "execute_result"
    }
   ],
   "source": [
    "(2*8192**3) / (2 * 1_000_000)"
   ]
  }
 ],
 "metadata": {
  "kernelspec": {
   "display_name": "python3",
   "language": "python",
   "name": "python3"
  }
 },
 "nbformat": 4,
 "nbformat_minor": 2
}
